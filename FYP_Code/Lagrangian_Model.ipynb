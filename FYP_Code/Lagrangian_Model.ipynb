{
 "cells": [
  {
   "cell_type": "markdown",
   "id": "f9d53279",
   "metadata": {},
   "source": [
    "### Importing Libraries"
   ]
  },
  {
   "cell_type": "code",
   "execution_count": null,
   "id": "a773b6f2",
   "metadata": {},
   "outputs": [],
   "source": [
    "import xarray as xr\n",
    "import pandas as pd\n",
    "import os\n",
    "from tqdm import tqdm"
   ]
  },
  {
   "cell_type": "markdown",
   "id": "3ffc5b38",
   "metadata": {},
   "source": [
    "### Loading, Subsetting, and Saving Data"
   ]
  },
  {
   "cell_type": "code",
   "execution_count": null,
   "id": "7ace77e4",
   "metadata": {},
   "outputs": [],
   "source": [
    "# Global Variables\n",
    "BASE_PATH = r\"Data\\Sea Surface Currents\"\n",
    "OUTPUT_FILE = r\"Data\\Processed_SSC_Data.nc\"\n",
    "START_DATE = '2020-02-25'\n",
    "END_DATE = '2023-12-16'\n",
    "LON_MIN = 13.9\n",
    "LON_MAX = 14.81\n",
    "LAT_MIN = 35.6\n",
    "LAT_MAX = 36.3\n",
    "\n",
    "def load_and_merge_ssc_data():\n",
    "    date_range = pd.date_range(START_DATE, END_DATE)\n",
    "    merged_dataset = []\n",
    "    total_files_count = 0  # To keep track of the total number of files\n",
    "\n",
    "    # Calculate the total number of files for the progress bar\n",
    "    for single_date in date_range:\n",
    "        day_path = os.path.join(BASE_PATH, f\"SSC_MaltaSicily_{single_date.year}\",\n",
    "                                str(single_date.year), single_date.strftime('%m'), single_date.strftime('%d'))\n",
    "        if os.path.exists(day_path):\n",
    "            total_files_count += len([f for f in os.listdir(day_path) if f.endswith('.nc')])\n",
    "\n",
    "    with tqdm(total=total_files_count, desc=\"Merging files\", unit=\"file\") as pbar:\n",
    "        for single_date in date_range:\n",
    "            day_path = os.path.join(BASE_PATH, f\"SSC_MaltaSicily_{single_date.year}\",\n",
    "                                    str(single_date.year), single_date.strftime('%m'), single_date.strftime('%d'))\n",
    "            if not os.path.exists(day_path):\n",
    "                continue\n",
    "\n",
    "            for hour_file in os.listdir(day_path):\n",
    "                if hour_file.endswith('.nc'):\n",
    "                    file_path = os.path.join(day_path, hour_file)\n",
    "                    ds = xr.open_dataset(file_path)\n",
    "                    merged_dataset.append(ds)\n",
    "                    pbar.update(1)\n",
    "    \n",
    "    print(\"Finished loading all files. Starting concatenation process...\")\n",
    "    print(\"=\"*125)\n",
    "    print(\"\\n\")\n",
    "\n",
    "    if merged_dataset:\n",
    "        # Concatenate here\n",
    "        combined_ds = xr.concat(merged_dataset, dim='time')\n",
    "        print(\"Concatenation complete. Now saving to file...\")\n",
    "        print(\"=\"*125)\n",
    "        print(\"\\n\")\n",
    "\n",
    "        return combined_ds\n",
    "    else:\n",
    "        print(\"No data loaded.\")\n",
    "        print(\"=\"*125)\n",
    "        print(\"\\n\")\n",
    "        return None\n",
    "\n",
    "def save_to_netcdf(dataset):\n",
    "    # Saving to NetCDF\n",
    "    print(f\"Attempting to save the merged dataset to {OUTPUT_FILE}...\")\n",
    "    print(\"=\"*125)\n",
    "    print(\"\\n\")\n",
    "    dataset.to_netcdf(OUTPUT_FILE)\n",
    "    print(f\"Dataset successfully saved to {OUTPUT_FILE}\")\n",
    "    print(\"=\"*125)\n",
    "    print(\"\\n\")\n",
    "\n",
    "# Execution block\n",
    "combined_ds = load_and_merge_ssc_data()\n",
    "\n",
    "if combined_ds is not None:\n",
    "    # Subset and save operations\n",
    "    print(\"Subsetting dataset for the specified polygon area...\")\n",
    "    print(\"=\"*125)\n",
    "    print(\"\\n\")\n",
    "    subset_ds = subset_data_for_polygon(combined_ds)\n",
    "    save_to_netcdf(subset_ds)\n",
    "else:\n",
    "    print(\"Data processing was unsuccessful!\")"
   ]
  },
  {
   "cell_type": "markdown",
   "id": "174fdae4",
   "metadata": {},
   "source": [
    "### Ensuring that the merged file is correct"
   ]
  },
  {
   "cell_type": "code",
   "execution_count": null,
   "id": "d9f2765b",
   "metadata": {},
   "outputs": [],
   "source": [
    "# Open the merged dataset\n",
    "ds = xr.open_dataset(OUTPUT_FILE)\n",
    "\n",
    "# Calculate the expected number of time points\n",
    "date_range = pd.date_range(start=START_DATE, end=END_DATE, freq='H')\n",
    "expected_time_points = len(date_range)\n",
    "\n",
    "# Now, print the structure and check the dataset\n",
    "print(f\"Dataset dimensions: {ds.dims}\")\n",
    "print(f\"Dataset coordinates: {ds.coords}\")\n",
    "print(f\"Data variables in the dataset: {ds.data_vars}\")\n",
    "print(f\"Attributes (metadata) in the dataset: {ds.attrs}\")\n",
    "\n",
    "# Check that the time dimension is as expected\n",
    "actual_time_points = ds.dims['time']\n",
    "print(f\"Expected time points: {expected_time_points}, Actual time points: {actual_time_points}\")\n",
    "\n",
    "# Check that the lat/lon are within the specified bounds\n",
    "lat_min, lat_max = ds['lat'].min().values, ds['lat'].max().values\n",
    "lon_min, lon_max = ds['lon'].min().values, ds['lon'].max().values\n",
    "print(f\"Latitude range in the dataset: {lat_min} to {lat_max}\")\n",
    "print(f\"Longitude range in the dataset: {lon_min} to {lon_max}\")\n",
    "\n",
    "# Check for expected variables\n",
    "assert 'u' in ds.variables, \"u variable is missing from the dataset\"\n",
    "assert 'v' in ds.variables, \"v variable is missing from the dataset\"\n",
    "\n",
    "# Close the dataset after inspection\n",
    "ds.close()"
   ]
  }
 ],
 "metadata": {
  "kernelspec": {
   "display_name": "Python 3 (ipykernel)",
   "language": "python",
   "name": "python3"
  },
  "language_info": {
   "codemirror_mode": {
    "name": "ipython",
    "version": 3
   },
   "file_extension": ".py",
   "mimetype": "text/x-python",
   "name": "python",
   "nbconvert_exporter": "python",
   "pygments_lexer": "ipython3",
   "version": "3.9.13"
  }
 },
 "nbformat": 4,
 "nbformat_minor": 5
}
