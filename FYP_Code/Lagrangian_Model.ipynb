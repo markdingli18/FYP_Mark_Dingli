{
 "cells": [
  {
   "cell_type": "markdown",
   "id": "933062b6",
   "metadata": {},
   "source": [
    "### Importing Libraries"
   ]
  },
  {
   "cell_type": "code",
   "execution_count": 1,
   "id": "6a9d95b4",
   "metadata": {},
   "outputs": [],
   "source": [
    "from parcels import FieldSet, Field, ParticleSet, JITParticle, AdvectionRK4\n",
    "import numpy as np\n",
    "import xarray as xr\n",
    "import matplotlib.pyplot as plt\n",
    "from matplotlib.animation import FuncAnimation\n",
    "\n",
    "from datetime import timedelta"
   ]
  },
  {
   "cell_type": "markdown",
   "id": "85d268a9",
   "metadata": {},
   "source": [
    "### Verifying the structure and dimentions of the data files"
   ]
  },
  {
   "cell_type": "code",
   "execution_count": 2,
   "id": "7fbef046",
   "metadata": {},
   "outputs": [
    {
     "name": "stdout",
     "output_type": "stream",
     "text": [
      "SSC Dataset:\n",
      "\n",
      "<xarray.Dataset>\n",
      "Dimensions:  (lat: 25, lon: 22, time: 2091)\n",
      "Coordinates:\n",
      "  * lat      (lat) float32 35.74 35.77 35.79 35.81 ... 36.21 36.23 36.26 36.28\n",
      "  * lon      (lon) float32 13.92 13.96 14.0 14.04 ... 14.65 14.69 14.73 14.77\n",
      "  * time     (time) datetime64[ns] 2021-01-01 2021-01-01T12:00:00 ... 2023-11-12\n",
      "Data variables:\n",
      "    u        (time, lat, lon) float64 ...\n",
      "    v        (time, lat, lon) float64 ...\n",
      "    stdu     (time, lat, lon) float64 ...\n",
      "    stdv     (time, lat, lon) float64 ...\n",
      "    cov      (time, lat, lon) float64 ...\n",
      "    velo     (time, lat, lon) float64 ...\n",
      "    head     (time, lat, lon) float64 ...\n",
      "Attributes: (12/17)\n",
      "    NC_GLOBAL.Title:                   Near-Real time Surface Ocean Velocity\n",
      "    NC_GLOBAL.origin:                  BARK (measured);POZZ (measured);\n",
      "    NC_GLOBAL.source:                  HF Radar Derived Surface Currents obta...\n",
      "    NC_GLOBAL.history:                 08-Jun-2023 14:46:23\n",
      "    NC_GLOBAL.grid_type:               REGULAR\n",
      "    NC_GLOBAL.Conventions:             CF-1.4\n",
      "    ...                                ...\n",
      "    NC_GLOBAL.grid_resolution:         3.0km\n",
      "    NC_GLOBAL.geospatial_lat_max:      36.8802\n",
      "    NC_GLOBAL.geospatial_lat_min:      35.7447\n",
      "    NC_GLOBAL.geospatial_lon_max:      15.3804\n",
      "    NC_GLOBAL.geospatial_lon_min:      13.6768\n",
      "    NC_GLOBAL.netcdf_library_version:  v2\n",
      "=============================================================================================================================\n",
      "\n",
      "Wind Dataset:\n",
      "\n",
      "<xarray.Dataset>\n",
      "Dimensions:    (longitude: 2, latitude: 2, time: 2091)\n",
      "Coordinates:\n",
      "  * longitude  (longitude) float32 14.1 14.5\n",
      "  * latitude   (latitude) float32 35.6 36.0\n",
      "  * time       (time) datetime64[ns] 2021-01-01 ... 2023-11-12\n",
      "Data variables:\n",
      "    v10        (time, latitude, longitude) float64 ...\n",
      "    u10        (time, latitude, longitude) float64 ...\n",
      "Attributes:\n",
      "    Conventions:  CF-1.6\n",
      "    history:      2023-12-17 08:43:38 GMT by grib_to_netcdf-2.25.1: /opt/ecmw...\n",
      "=============================================================================================================================\n"
     ]
    }
   ],
   "source": [
    "# Open the SSC dataset\n",
    "ssc_ds = xr.open_dataset(\"Data/Processed_SSC_Data.nc\")\n",
    "\n",
    "# Print the SSC dataset\n",
    "print(\"SSC Dataset:\\n\")\n",
    "print(ssc_ds)\n",
    "print(\"=\" * 125)\n",
    "\n",
    "# Open the wind dataset\n",
    "wind_ds = xr.open_dataset(\"Data/Processed_Wind_Data.nc\")\n",
    "\n",
    "# Print the wind dataset\n",
    "print(\"\\nWind Dataset:\\n\")\n",
    "print(wind_ds)\n",
    "print(\"=\" * 125)\n",
    "\n",
    "# Close datasets after inspection\n",
    "ssc_ds.close()\n",
    "wind_ds.close()"
   ]
  },
  {
   "cell_type": "markdown",
   "id": "3b792590",
   "metadata": {},
   "source": [
    "### Creating a FieldSet"
   ]
  },
  {
   "cell_type": "code",
   "execution_count": 3,
   "id": "79aac40c",
   "metadata": {},
   "outputs": [],
   "source": [
    "fieldset = FieldSet.from_netcdf(\n",
    "    filenames={\n",
    "        \"U\": \"Data/Processed_SSC_Data.nc\",\n",
    "        \"V\": \"Data/Processed_SSC_Data.nc\",\n",
    "        \"U_wind\": \"Data/Processed_Wind_Data.nc\",\n",
    "        \"V_wind\": \"Data/Processed_Wind_Data.nc\"\n",
    "    },\n",
    "    variables={\n",
    "        \"U\": \"u\",\n",
    "        \"V\": \"v\",\n",
    "        \"U_wind\": \"u10\",\n",
    "        \"V_wind\": \"v10\"\n",
    "    },\n",
    "    dimensions={\n",
    "        \"U\": {\"lon\": \"lon\", \"lat\": \"lat\", \"time\": \"time\"},\n",
    "        \"V\": {\"lon\": \"lon\", \"lat\": \"lat\", \"time\": \"time\"},\n",
    "        \"U_wind\": {\"lon\": \"longitude\", \"lat\": \"latitude\", \"time\": \"time\"},\n",
    "        \"V_wind\": {\"lon\": \"longitude\", \"lat\": \"latitude\", \"time\": \"time\"}\n",
    "    },\n",
    "    allow_time_extrapolation=True\n",
    ")"
   ]
  },
  {
   "cell_type": "markdown",
   "id": "eaed3d11",
   "metadata": {},
   "source": [
    "### Initializing the Particles"
   ]
  },
  {
   "cell_type": "code",
   "execution_count": 4,
   "id": "bb515b56",
   "metadata": {},
   "outputs": [],
   "source": [
    "# Example coordinates for particle release (adjust according to your study)\n",
    "# Let's say we want to release particles from two locations\n",
    "lat_release = [35.9, 35.95]  # Example latitudes\n",
    "lon_release = [14.5, 14.55]  # Example longitudes\n",
    "\n",
    "# Create a ParticleSet with JITParticle\n",
    "pset = ParticleSet(fieldset=fieldset,\n",
    "                   pclass=JITParticle,  # JITParticle allows for fast execution\n",
    "                   lon=lon_release,\n",
    "                   lat=lat_release)"
   ]
  },
  {
   "cell_type": "markdown",
   "id": "0ede4c59",
   "metadata": {},
   "source": [
    "### Define Simulation Parameters"
   ]
  },
  {
   "cell_type": "code",
   "execution_count": 6,
   "id": "76593008",
   "metadata": {},
   "outputs": [],
   "source": [
    "# Define the simulation runtime and timestep\n",
    "runtime = timedelta(days=250)  # Simulate for 250 days\n",
    "total_minutes = runtime.total_seconds() / 60  # Convert runtime to minutes\n",
    "\n",
    "# Decide on your desired timestep, for example, 10 minutes\n",
    "dt_new = 10  # Change this to your desired timestep in minutes\n",
    "\n",
    "# Calculate the number of timesteps required with the new timestep\n",
    "num_timesteps = total_minutes / dt_new\n",
    "\n",
    "# Calculate the actual timestep duration as a timedelta\n",
    "dt = timedelta(minutes=dt_new)\n",
    "\n",
    "# Define the simulation runtime and timestep\n",
    "#runtime = timedelta(days=10)  # Simulate for 10 days\n",
    "#dt = timedelta(minutes=5)  # Integration timestep of 5 minutes"
   ]
  },
  {
   "cell_type": "markdown",
   "id": "5d4395f2",
   "metadata": {},
   "source": [
    "### Execute the Simulation"
   ]
  },
  {
   "cell_type": "code",
   "execution_count": null,
   "id": "aaa9c252",
   "metadata": {},
   "outputs": [
    {
     "name": "stdout",
     "output_type": "stream",
     "text": [
      "INFO: Output files are stored in debris_simulation_output.zarr.\n",
      " 34%|███▍      | 7312200.0/21600000.0 [04:51<18:24, 12936.24it/s]"
     ]
    }
   ],
   "source": [
    "# Define recovery kernel for deleting particles that go out of bounds\n",
    "def DeleteParticle(particle, fieldset, time):\n",
    "    particle.delete()\n",
    "\n",
    "# Execute the simulation\n",
    "output_file = pset.ParticleFile(name=\"debris_simulation_output.zarr\", outputdt=timedelta(hours=1))  # Save output every hour\n",
    "pset.execute(\n",
    "    AdvectionRK4,  # Advection kernel \n",
    "    runtime=runtime,\n",
    "    dt=dt,\n",
    "    output_file=output_file\n",
    ")"
   ]
  },
  {
   "cell_type": "markdown",
   "id": "67b0e089",
   "metadata": {},
   "source": [
    "### Visualise"
   ]
  },
  {
   "cell_type": "code",
   "execution_count": null,
   "id": "81dc9b3d",
   "metadata": {},
   "outputs": [],
   "source": [
    "# Load the simulation output\n",
    "ds = xr.open_zarr(\"debris_simulation_output.zarr\")\n",
    "\n",
    "# Plot trajectories\n",
    "plt.figure(figsize=(10, 6))\n",
    "plt.scatter(ds.lon, ds.lat, s=1, c=ds.time, cmap='viridis', marker='o')\n",
    "plt.colorbar(label='Time')\n",
    "plt.xlabel('Longitude')\n",
    "plt.ylabel('Latitude')\n",
    "plt.title('Particle Trajectories')\n",
    "plt.show()"
   ]
  },
  {
   "cell_type": "code",
   "execution_count": null,
   "id": "8e1d25e9",
   "metadata": {},
   "outputs": [],
   "source": [
    "import numpy as np\n",
    "import xarray as xr\n",
    "from matplotlib import pyplot as plt, animation\n",
    "\n",
    "# Load the simulation output\n",
    "ds = xr.open_zarr(\"debris_simulation_output.zarr\")\n",
    "\n",
    "fig, ax = plt.subplots(figsize=(10, 6))\n",
    "scat = ax.scatter([], [], s=1, cmap='viridis', marker='o')\n",
    "\n",
    "# Set the axes limits and labels\n",
    "ax.set_xlim(ds.lon.min(), ds.lon.max())\n",
    "ax.set_ylim(ds.lat.min(), ds.lat.max())\n",
    "ax.set_xlabel('Longitude')\n",
    "ax.set_ylabel('Latitude')\n",
    "\n",
    "# Initialize the colors based on the first time step\n",
    "times = ds.time.values.astype('float')  # Convert times to float for coloring\n",
    "scat.set_array((times - times.min()) / (times.max() - times.min()))  # Normalize color\n",
    "\n",
    "def init():\n",
    "    scat.set_offsets(np.empty((0, 2)))\n",
    "    return scat,\n",
    "\n",
    "def animate(i):\n",
    "    time_id = np.where(ds.time == ds.time[i])\n",
    "    positions = np.c_[ds.lon[time_id].values.flatten(), ds.lat[time_id].values.flatten()]\n",
    "    scat.set_offsets(positions)\n",
    "    return scat,\n",
    "\n",
    "# Create the animation\n",
    "anim = animation.FuncAnimation(fig, animate, init_func=init, frames=len(ds.time), interval=100, blit=True)\n",
    "\n",
    "# Display the animation\n",
    "plt.show()\n",
    "\n",
    "# To save the animation, use the following line\n",
    "# anim.save('particle_trajectories.mp4', writer"
   ]
  }
 ],
 "metadata": {
  "kernelspec": {
   "display_name": "Python 3 (ipykernel)",
   "language": "python",
   "name": "python3"
  },
  "language_info": {
   "codemirror_mode": {
    "name": "ipython",
    "version": 3
   },
   "file_extension": ".py",
   "mimetype": "text/x-python",
   "name": "python",
   "nbconvert_exporter": "python",
   "pygments_lexer": "ipython3",
   "version": "3.9.13"
  }
 },
 "nbformat": 4,
 "nbformat_minor": 5
}
