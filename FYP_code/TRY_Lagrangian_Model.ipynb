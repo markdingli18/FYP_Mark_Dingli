{
 "cells": [
  {
   "cell_type": "markdown",
   "id": "090bfe97",
   "metadata": {},
   "source": [
    "### Importing Libraries"
   ]
  },
  {
   "cell_type": "code",
   "execution_count": 21,
   "id": "ab8e4b05",
   "metadata": {},
   "outputs": [],
   "source": [
    "from parcels import FieldSet, Field, ParticleSet, JITParticle, AdvectionRK4\n",
    "import numpy as np\n",
    "import xarray as xr\n",
    "import matplotlib.pyplot as plt\n",
    "from matplotlib.animation import FuncAnimation\n",
    "from datetime import timedelta\n",
    "import cartopy.crs as ccrs\n",
    "import cartopy.feature as cfeature\n",
    "import geopandas as gpd\n",
    "from shapely.geometry import MultiPolygon, Polygon\n",
    "import rasterio\n",
    "from rasterio.transform import from_origin\n",
    "from rasterio.features import rasterize"
   ]
  },
  {
   "cell_type": "markdown",
   "id": "867e832d",
   "metadata": {},
   "source": [
    "### Verifying the structure and dimentions of the data files"
   ]
  },
  {
   "cell_type": "code",
   "execution_count": 22,
   "id": "ee331476",
   "metadata": {},
   "outputs": [
    {
     "name": "stdout",
     "output_type": "stream",
     "text": [
      "SSC Dataset:\n",
      "\n",
      "<xarray.Dataset>\n",
      "Dimensions:  (lat: 25, lon: 22, time: 2091)\n",
      "Coordinates:\n",
      "  * lat      (lat) float32 35.74 35.77 35.79 35.81 ... 36.21 36.23 36.26 36.28\n",
      "  * lon      (lon) float32 13.92 13.96 14.0 14.04 ... 14.65 14.69 14.73 14.77\n",
      "  * time     (time) datetime64[ns] 2021-01-01 2021-01-01T12:00:00 ... 2023-11-12\n",
      "Data variables:\n",
      "    u        (time, lat, lon) float64 ...\n",
      "    v        (time, lat, lon) float64 ...\n",
      "    stdu     (time, lat, lon) float64 ...\n",
      "    stdv     (time, lat, lon) float64 ...\n",
      "    cov      (time, lat, lon) float64 ...\n",
      "    velo     (time, lat, lon) float64 ...\n",
      "    head     (time, lat, lon) float64 ...\n",
      "Attributes: (12/17)\n",
      "    NC_GLOBAL.Title:                   Near-Real time Surface Ocean Velocity\n",
      "    NC_GLOBAL.origin:                  BARK (measured);POZZ (measured);\n",
      "    NC_GLOBAL.source:                  HF Radar Derived Surface Currents obta...\n",
      "    NC_GLOBAL.history:                 08-Jun-2023 14:46:23\n",
      "    NC_GLOBAL.grid_type:               REGULAR\n",
      "    NC_GLOBAL.Conventions:             CF-1.4\n",
      "    ...                                ...\n",
      "    NC_GLOBAL.grid_resolution:         3.0km\n",
      "    NC_GLOBAL.geospatial_lat_max:      36.8802\n",
      "    NC_GLOBAL.geospatial_lat_min:      35.7447\n",
      "    NC_GLOBAL.geospatial_lon_max:      15.3804\n",
      "    NC_GLOBAL.geospatial_lon_min:      13.6768\n",
      "    NC_GLOBAL.netcdf_library_version:  v2\n",
      "=============================================================================================================================\n",
      "\n",
      "Wind Dataset:\n",
      "\n",
      "<xarray.Dataset>\n",
      "Dimensions:    (longitude: 2, latitude: 2, time: 2091)\n",
      "Coordinates:\n",
      "  * longitude  (longitude) float32 14.1 14.5\n",
      "  * latitude   (latitude) float32 35.6 36.0\n",
      "  * time       (time) datetime64[ns] 2021-01-01 ... 2023-11-12\n",
      "Data variables:\n",
      "    v10        (time, latitude, longitude) float64 ...\n",
      "    u10        (time, latitude, longitude) float64 ...\n",
      "Attributes:\n",
      "    Conventions:  CF-1.6\n",
      "    history:      2023-12-17 08:43:38 GMT by grib_to_netcdf-2.25.1: /opt/ecmw...\n",
      "=============================================================================================================================\n"
     ]
    }
   ],
   "source": [
    "# Open the SSC dataset\n",
    "ssc_ds = xr.open_dataset(\"Data/Processed_SSC_Data.nc\")\n",
    "\n",
    "# Print the SSC dataset\n",
    "print(\"SSC Dataset:\\n\")\n",
    "print(ssc_ds)\n",
    "print(\"=\" * 125)\n",
    "\n",
    "# Open the wind dataset\n",
    "wind_ds = xr.open_dataset(\"Data/Processed_Wind_Data.nc\")\n",
    "\n",
    "# Print the wind dataset\n",
    "print(\"\\nWind Dataset:\\n\")\n",
    "print(wind_ds)\n",
    "print(\"=\" * 125)\n",
    "\n",
    "# Close datasets after inspection\n",
    "ssc_ds.close()\n",
    "wind_ds.close()"
   ]
  },
  {
   "cell_type": "markdown",
   "id": "269bbaeb",
   "metadata": {},
   "source": [
    "### Load Shapefile and Extract Coastline Boundaries"
   ]
  },
  {
   "cell_type": "code",
   "execution_count": 24,
   "id": "365512c0",
   "metadata": {},
   "outputs": [],
   "source": [
    "# Load the shapefile\n",
    "shapefile_path = 'Data/land_sea_mask/MaltaCoastline.shp'\n",
    "malta_coastline = gpd.read_file(shapefile_path)\n",
    "\n",
    "# Assuming a roughly 3km per pixel resolution, calculate degree resolution approx\n",
    "# For simplicity, we'll use the SSC dataset's extent and resolution as a reference\n",
    "min_lon, max_lon = 13.9, 14.81\n",
    "min_lat, max_lat = 35.6, 36.3\n",
    "\n",
    "# Assuming the SSC dataset's grid dimensions to approximate grid size\n",
    "grid_width = 22  # From SSC dataset lon dimension\n",
    "grid_height = 25  # From SSC dataset lat dimension\n",
    "\n",
    "# Determine grid resolution in degrees\n",
    "lon_res = (max_lon - min_lon) / grid_width\n",
    "lat_res = (max_lat - min_lat) / grid_height\n",
    "\n",
    "# Create a transform for rasterization\n",
    "transform = from_origin(min_lon, max_lat, lon_res, lat_res)\n",
    "\n",
    "# Rasterize the shapefile\n",
    "shapes = ((geom, 1) for geom in malta_coastline.geometry)\n",
    "raster = rasterize(shapes=shapes, out_shape=(grid_height, grid_width), transform=transform, fill=0, all_touched=True, dtype='float32')\n",
    "\n",
    "# Create longitude and latitude coordinates for the raster\n",
    "lons = np.linspace(min_lon, max_lon - lon_res, grid_width)\n",
    "lats = np.linspace(max_lat, min_lat + lat_res, grid_height)\n",
    "\n",
    "# Convert the rasterized data to an xarray DataArray\n",
    "land_sea_mask = xr.DataArray(raster, dims=['lat', 'lon'], coords={'lat': lats[::-1], 'lon': lons})\n",
    "\n",
    "# Convert to xarray Dataset and assign variable name\n",
    "ds = land_sea_mask.to_dataset(name='land_sea_mask')\n",
    "\n",
    "# Define output path and save to NetCDF\n",
    "output_nc_path = '/mnt/data/MaltaLandSeaMask.nc'\n",
    "ds.to_netcdf(output_nc_path)"
   ]
  },
  {
   "cell_type": "markdown",
   "id": "fb7cbf9a",
   "metadata": {},
   "source": [
    "### Creating a FieldSet"
   ]
  },
  {
   "cell_type": "code",
   "execution_count": 25,
   "id": "dcd82112",
   "metadata": {},
   "outputs": [
    {
     "ename": "MemoryError",
     "evalue": "Unable to allocate 4.05 GiB for an array with shape (30787, 35296) and data type float32",
     "output_type": "error",
     "traceback": [
      "\u001b[1;31m---------------------------------------------------------------------------\u001b[0m",
      "\u001b[1;31mMemoryError\u001b[0m                               Traceback (most recent call last)",
      "Cell \u001b[1;32mIn[25], line 26\u001b[0m\n\u001b[0;32m     24\u001b[0m \u001b[38;5;66;03m# Load the land mask dataset and add it to the FieldSet\u001b[39;00m\n\u001b[0;32m     25\u001b[0m land_mask_ds \u001b[38;5;241m=\u001b[39m xr\u001b[38;5;241m.\u001b[39mopen_dataset(\u001b[38;5;124m'\u001b[39m\u001b[38;5;124mData/land_sea_mask/MaltaLandSeaMask.nc\u001b[39m\u001b[38;5;124m'\u001b[39m)\n\u001b[1;32m---> 26\u001b[0m land_mask_field \u001b[38;5;241m=\u001b[39m \u001b[43mField\u001b[49m\u001b[38;5;241;43m.\u001b[39;49m\u001b[43mfrom_netcdf\u001b[49m\u001b[43m(\u001b[49m\u001b[38;5;124;43m'\u001b[39;49m\u001b[38;5;124;43mData/land_sea_mask/MaltaLandSeaMask.nc\u001b[39;49m\u001b[38;5;124;43m'\u001b[39;49m\u001b[43m,\u001b[49m\u001b[43m \u001b[49m\u001b[43mvariable\u001b[49m\u001b[38;5;241;43m=\u001b[39;49m\u001b[38;5;124;43m'\u001b[39;49m\u001b[38;5;124;43mland_sea_mask\u001b[39;49m\u001b[38;5;124;43m'\u001b[39;49m\u001b[43m,\u001b[49m\u001b[43m \u001b[49m\u001b[43mdimensions\u001b[49m\u001b[38;5;241;43m=\u001b[39;49m\u001b[43m{\u001b[49m\u001b[38;5;124;43m'\u001b[39;49m\u001b[38;5;124;43mlon\u001b[39;49m\u001b[38;5;124;43m'\u001b[39;49m\u001b[43m:\u001b[49m\u001b[43m \u001b[49m\u001b[38;5;124;43m'\u001b[39;49m\u001b[38;5;124;43mlon\u001b[39;49m\u001b[38;5;124;43m'\u001b[39;49m\u001b[43m,\u001b[49m\u001b[43m \u001b[49m\u001b[38;5;124;43m'\u001b[39;49m\u001b[38;5;124;43mlat\u001b[39;49m\u001b[38;5;124;43m'\u001b[39;49m\u001b[43m:\u001b[49m\u001b[43m \u001b[49m\u001b[38;5;124;43m'\u001b[39;49m\u001b[38;5;124;43mlat\u001b[39;49m\u001b[38;5;124;43m'\u001b[39;49m\u001b[43m}\u001b[49m\u001b[43m,\u001b[49m\u001b[43m \u001b[49m\u001b[43mmesh\u001b[49m\u001b[38;5;241;43m=\u001b[39;49m\u001b[38;5;124;43m'\u001b[39;49m\u001b[38;5;124;43mspherical\u001b[39;49m\u001b[38;5;124;43m'\u001b[39;49m\u001b[43m,\u001b[49m\u001b[43m \u001b[49m\u001b[43mallow_time_extrapolation\u001b[49m\u001b[38;5;241;43m=\u001b[39;49m\u001b[38;5;28;43;01mTrue\u001b[39;49;00m\u001b[43m)\u001b[49m\n\u001b[0;32m     27\u001b[0m fieldset\u001b[38;5;241m.\u001b[39madd_field(land_mask_field)\n",
      "File \u001b[1;32m~\\anaconda3\\envs\\oceanparcels\\lib\\site-packages\\parcels\\field.py:511\u001b[0m, in \u001b[0;36mField.from_netcdf\u001b[1;34m(cls, filenames, variable, dimensions, indices, grid, mesh, timestamps, allow_time_extrapolation, time_periodic, deferred_load, **kwargs)\u001b[0m\n\u001b[0;32m    505\u001b[0m \u001b[38;5;28;01mwith\u001b[39;00m _field_fb_class(fname, dimensions, indices, netcdf_engine,\n\u001b[0;32m    506\u001b[0m                      interp_method\u001b[38;5;241m=\u001b[39minterp_method, data_full_zdim\u001b[38;5;241m=\u001b[39mdata_full_zdim,\n\u001b[0;32m    507\u001b[0m                      chunksize\u001b[38;5;241m=\u001b[39mchunksize, netcdf_decodewarning\u001b[38;5;241m=\u001b[39mnetcdf_decodewarning) \u001b[38;5;28;01mas\u001b[39;00m filebuffer:\n\u001b[0;32m    508\u001b[0m     \u001b[38;5;66;03m# If Field.from_netcdf is called directly, it may not have a 'data' dimension\u001b[39;00m\n\u001b[0;32m    509\u001b[0m     \u001b[38;5;66;03m# In that case, assume that 'name' is the data dimension\u001b[39;00m\n\u001b[0;32m    510\u001b[0m     filebuffer\u001b[38;5;241m.\u001b[39mname \u001b[38;5;241m=\u001b[39m filebuffer\u001b[38;5;241m.\u001b[39mparse_name(variable[\u001b[38;5;241m1\u001b[39m])\n\u001b[1;32m--> 511\u001b[0m     buffer_data \u001b[38;5;241m=\u001b[39m \u001b[43mfilebuffer\u001b[49m\u001b[38;5;241;43m.\u001b[39;49m\u001b[43mdata\u001b[49m\n\u001b[0;32m    512\u001b[0m     \u001b[38;5;28;01mif\u001b[39;00m \u001b[38;5;28mlen\u001b[39m(buffer_data\u001b[38;5;241m.\u001b[39mshape) \u001b[38;5;241m==\u001b[39m \u001b[38;5;241m4\u001b[39m:\n\u001b[0;32m    513\u001b[0m         errormessage \u001b[38;5;241m=\u001b[39m (\u001b[38;5;124mf\u001b[39m\u001b[38;5;124m'\u001b[39m\u001b[38;5;124mField \u001b[39m\u001b[38;5;132;01m{\u001b[39;00mfilebuffer\u001b[38;5;241m.\u001b[39mname\u001b[38;5;132;01m}\u001b[39;00m\u001b[38;5;124m expecting a data shape of [tdim, zdim, ydim, xdim]. \u001b[39m\u001b[38;5;124m'\u001b[39m\n\u001b[0;32m    514\u001b[0m                         \u001b[38;5;124m'\u001b[39m\u001b[38;5;124mFlag transpose=True could help to reorder the data.\u001b[39m\u001b[38;5;124m'\u001b[39m)\n",
      "File \u001b[1;32m~\\anaconda3\\envs\\oceanparcels\\lib\\site-packages\\parcels\\fieldfilebuffer.py:205\u001b[0m, in \u001b[0;36mNetcdfFileBuffer.data\u001b[1;34m(self)\u001b[0m\n\u001b[0;32m    203\u001b[0m \u001b[38;5;129m@property\u001b[39m\n\u001b[0;32m    204\u001b[0m \u001b[38;5;28;01mdef\u001b[39;00m \u001b[38;5;21mdata\u001b[39m(\u001b[38;5;28mself\u001b[39m):\n\u001b[1;32m--> 205\u001b[0m     \u001b[38;5;28;01mreturn\u001b[39;00m \u001b[38;5;28;43mself\u001b[39;49m\u001b[38;5;241;43m.\u001b[39;49m\u001b[43mdata_access\u001b[49m\u001b[43m(\u001b[49m\u001b[43m)\u001b[49m\n",
      "File \u001b[1;32m~\\anaconda3\\envs\\oceanparcels\\lib\\site-packages\\parcels\\fieldfilebuffer.py:211\u001b[0m, in \u001b[0;36mNetcdfFileBuffer.data_access\u001b[1;34m(self)\u001b[0m\n\u001b[0;32m    209\u001b[0m ti \u001b[38;5;241m=\u001b[39m \u001b[38;5;28mrange\u001b[39m(data\u001b[38;5;241m.\u001b[39mshape[\u001b[38;5;241m0\u001b[39m]) \u001b[38;5;28;01mif\u001b[39;00m \u001b[38;5;28mself\u001b[39m\u001b[38;5;241m.\u001b[39mti \u001b[38;5;129;01mis\u001b[39;00m \u001b[38;5;28;01mNone\u001b[39;00m \u001b[38;5;28;01melse\u001b[39;00m \u001b[38;5;28mself\u001b[39m\u001b[38;5;241m.\u001b[39mti\n\u001b[0;32m    210\u001b[0m data \u001b[38;5;241m=\u001b[39m \u001b[38;5;28mself\u001b[39m\u001b[38;5;241m.\u001b[39m_apply_indices(data, ti)\n\u001b[1;32m--> 211\u001b[0m \u001b[38;5;28;01mreturn\u001b[39;00m \u001b[43mnp\u001b[49m\u001b[38;5;241;43m.\u001b[39;49m\u001b[43marray\u001b[49m\u001b[43m(\u001b[49m\u001b[43mdata\u001b[49m\u001b[43m,\u001b[49m\u001b[43m \u001b[49m\u001b[43mdtype\u001b[49m\u001b[38;5;241;43m=\u001b[39;49m\u001b[38;5;28;43mself\u001b[39;49m\u001b[38;5;241;43m.\u001b[39;49m\u001b[43mcast_data_dtype\u001b[49m\u001b[43m)\u001b[49m\n",
      "File \u001b[1;32m~\\anaconda3\\envs\\oceanparcels\\lib\\site-packages\\xarray\\core\\common.py:166\u001b[0m, in \u001b[0;36mAbstractArray.__array__\u001b[1;34m(self, dtype)\u001b[0m\n\u001b[0;32m    165\u001b[0m \u001b[38;5;28;01mdef\u001b[39;00m \u001b[38;5;21m__array__\u001b[39m(\u001b[38;5;28mself\u001b[39m: Any, dtype: DTypeLike \u001b[38;5;241m|\u001b[39m \u001b[38;5;28;01mNone\u001b[39;00m \u001b[38;5;241m=\u001b[39m \u001b[38;5;28;01mNone\u001b[39;00m) \u001b[38;5;241m-\u001b[39m\u001b[38;5;241m>\u001b[39m np\u001b[38;5;241m.\u001b[39mndarray:\n\u001b[1;32m--> 166\u001b[0m     \u001b[38;5;28;01mreturn\u001b[39;00m np\u001b[38;5;241m.\u001b[39masarray(\u001b[38;5;28;43mself\u001b[39;49m\u001b[38;5;241;43m.\u001b[39;49m\u001b[43mvalues\u001b[49m, dtype\u001b[38;5;241m=\u001b[39mdtype)\n",
      "File \u001b[1;32m~\\anaconda3\\envs\\oceanparcels\\lib\\site-packages\\xarray\\core\\dataarray.py:769\u001b[0m, in \u001b[0;36mDataArray.values\u001b[1;34m(self)\u001b[0m\n\u001b[0;32m    760\u001b[0m \u001b[38;5;129m@property\u001b[39m\n\u001b[0;32m    761\u001b[0m \u001b[38;5;28;01mdef\u001b[39;00m \u001b[38;5;21mvalues\u001b[39m(\u001b[38;5;28mself\u001b[39m) \u001b[38;5;241m-\u001b[39m\u001b[38;5;241m>\u001b[39m np\u001b[38;5;241m.\u001b[39mndarray:\n\u001b[0;32m    762\u001b[0m \u001b[38;5;250m    \u001b[39m\u001b[38;5;124;03m\"\"\"\u001b[39;00m\n\u001b[0;32m    763\u001b[0m \u001b[38;5;124;03m    The array's data as a numpy.ndarray.\u001b[39;00m\n\u001b[0;32m    764\u001b[0m \n\u001b[1;32m   (...)\u001b[0m\n\u001b[0;32m    767\u001b[0m \u001b[38;5;124;03m    type does not support coercion like this (e.g. cupy).\u001b[39;00m\n\u001b[0;32m    768\u001b[0m \u001b[38;5;124;03m    \"\"\"\u001b[39;00m\n\u001b[1;32m--> 769\u001b[0m     \u001b[38;5;28;01mreturn\u001b[39;00m \u001b[38;5;28;43mself\u001b[39;49m\u001b[38;5;241;43m.\u001b[39;49m\u001b[43mvariable\u001b[49m\u001b[38;5;241;43m.\u001b[39;49m\u001b[43mvalues\u001b[49m\n",
      "File \u001b[1;32m~\\anaconda3\\envs\\oceanparcels\\lib\\site-packages\\xarray\\core\\variable.py:556\u001b[0m, in \u001b[0;36mVariable.values\u001b[1;34m(self)\u001b[0m\n\u001b[0;32m    553\u001b[0m \u001b[38;5;129m@property\u001b[39m\n\u001b[0;32m    554\u001b[0m \u001b[38;5;28;01mdef\u001b[39;00m \u001b[38;5;21mvalues\u001b[39m(\u001b[38;5;28mself\u001b[39m):\n\u001b[0;32m    555\u001b[0m \u001b[38;5;250m    \u001b[39m\u001b[38;5;124;03m\"\"\"The variable's data as a numpy.ndarray\"\"\"\u001b[39;00m\n\u001b[1;32m--> 556\u001b[0m     \u001b[38;5;28;01mreturn\u001b[39;00m \u001b[43m_as_array_or_item\u001b[49m\u001b[43m(\u001b[49m\u001b[38;5;28;43mself\u001b[39;49m\u001b[38;5;241;43m.\u001b[39;49m\u001b[43m_data\u001b[49m\u001b[43m)\u001b[49m\n",
      "File \u001b[1;32m~\\anaconda3\\envs\\oceanparcels\\lib\\site-packages\\xarray\\core\\variable.py:306\u001b[0m, in \u001b[0;36m_as_array_or_item\u001b[1;34m(data)\u001b[0m\n\u001b[0;32m    292\u001b[0m \u001b[38;5;28;01mdef\u001b[39;00m \u001b[38;5;21m_as_array_or_item\u001b[39m(data):\n\u001b[0;32m    293\u001b[0m \u001b[38;5;250m    \u001b[39m\u001b[38;5;124;03m\"\"\"Return the given values as a numpy array, or as an individual item if\u001b[39;00m\n\u001b[0;32m    294\u001b[0m \u001b[38;5;124;03m    it's a 0d datetime64 or timedelta64 array.\u001b[39;00m\n\u001b[0;32m    295\u001b[0m \n\u001b[1;32m   (...)\u001b[0m\n\u001b[0;32m    304\u001b[0m \u001b[38;5;124;03m    TODO: remove this (replace with np.asarray) once these issues are fixed\u001b[39;00m\n\u001b[0;32m    305\u001b[0m \u001b[38;5;124;03m    \"\"\"\u001b[39;00m\n\u001b[1;32m--> 306\u001b[0m     data \u001b[38;5;241m=\u001b[39m \u001b[43mnp\u001b[49m\u001b[38;5;241;43m.\u001b[39;49m\u001b[43masarray\u001b[49m\u001b[43m(\u001b[49m\u001b[43mdata\u001b[49m\u001b[43m)\u001b[49m\n\u001b[0;32m    307\u001b[0m     \u001b[38;5;28;01mif\u001b[39;00m data\u001b[38;5;241m.\u001b[39mndim \u001b[38;5;241m==\u001b[39m \u001b[38;5;241m0\u001b[39m:\n\u001b[0;32m    308\u001b[0m         \u001b[38;5;28;01mif\u001b[39;00m data\u001b[38;5;241m.\u001b[39mdtype\u001b[38;5;241m.\u001b[39mkind \u001b[38;5;241m==\u001b[39m \u001b[38;5;124m\"\u001b[39m\u001b[38;5;124mM\u001b[39m\u001b[38;5;124m\"\u001b[39m:\n",
      "File \u001b[1;32m~\\anaconda3\\envs\\oceanparcels\\lib\\site-packages\\xarray\\core\\indexing.py:696\u001b[0m, in \u001b[0;36mMemoryCachedArray.__array__\u001b[1;34m(self, dtype)\u001b[0m\n\u001b[0;32m    695\u001b[0m \u001b[38;5;28;01mdef\u001b[39;00m \u001b[38;5;21m__array__\u001b[39m(\u001b[38;5;28mself\u001b[39m, dtype: np\u001b[38;5;241m.\u001b[39mtyping\u001b[38;5;241m.\u001b[39mDTypeLike \u001b[38;5;241m=\u001b[39m \u001b[38;5;28;01mNone\u001b[39;00m) \u001b[38;5;241m-\u001b[39m\u001b[38;5;241m>\u001b[39m np\u001b[38;5;241m.\u001b[39mndarray:\n\u001b[1;32m--> 696\u001b[0m     \u001b[38;5;28;01mreturn\u001b[39;00m np\u001b[38;5;241m.\u001b[39masarray(\u001b[38;5;28;43mself\u001b[39;49m\u001b[38;5;241;43m.\u001b[39;49m\u001b[43mget_duck_array\u001b[49m\u001b[43m(\u001b[49m\u001b[43m)\u001b[49m, dtype\u001b[38;5;241m=\u001b[39mdtype)\n",
      "File \u001b[1;32m~\\anaconda3\\envs\\oceanparcels\\lib\\site-packages\\xarray\\core\\indexing.py:699\u001b[0m, in \u001b[0;36mMemoryCachedArray.get_duck_array\u001b[1;34m(self)\u001b[0m\n\u001b[0;32m    698\u001b[0m \u001b[38;5;28;01mdef\u001b[39;00m \u001b[38;5;21mget_duck_array\u001b[39m(\u001b[38;5;28mself\u001b[39m):\n\u001b[1;32m--> 699\u001b[0m     \u001b[38;5;28;43mself\u001b[39;49m\u001b[38;5;241;43m.\u001b[39;49m\u001b[43m_ensure_cached\u001b[49m\u001b[43m(\u001b[49m\u001b[43m)\u001b[49m\n\u001b[0;32m    700\u001b[0m     \u001b[38;5;28;01mreturn\u001b[39;00m \u001b[38;5;28mself\u001b[39m\u001b[38;5;241m.\u001b[39marray\u001b[38;5;241m.\u001b[39mget_duck_array()\n",
      "File \u001b[1;32m~\\anaconda3\\envs\\oceanparcels\\lib\\site-packages\\xarray\\core\\indexing.py:693\u001b[0m, in \u001b[0;36mMemoryCachedArray._ensure_cached\u001b[1;34m(self)\u001b[0m\n\u001b[0;32m    692\u001b[0m \u001b[38;5;28;01mdef\u001b[39;00m \u001b[38;5;21m_ensure_cached\u001b[39m(\u001b[38;5;28mself\u001b[39m):\n\u001b[1;32m--> 693\u001b[0m     \u001b[38;5;28mself\u001b[39m\u001b[38;5;241m.\u001b[39marray \u001b[38;5;241m=\u001b[39m as_indexable(\u001b[38;5;28;43mself\u001b[39;49m\u001b[38;5;241;43m.\u001b[39;49m\u001b[43marray\u001b[49m\u001b[38;5;241;43m.\u001b[39;49m\u001b[43mget_duck_array\u001b[49m\u001b[43m(\u001b[49m\u001b[43m)\u001b[49m)\n",
      "File \u001b[1;32m~\\anaconda3\\envs\\oceanparcels\\lib\\site-packages\\xarray\\core\\indexing.py:667\u001b[0m, in \u001b[0;36mCopyOnWriteArray.get_duck_array\u001b[1;34m(self)\u001b[0m\n\u001b[0;32m    666\u001b[0m \u001b[38;5;28;01mdef\u001b[39;00m \u001b[38;5;21mget_duck_array\u001b[39m(\u001b[38;5;28mself\u001b[39m):\n\u001b[1;32m--> 667\u001b[0m     \u001b[38;5;28;01mreturn\u001b[39;00m \u001b[38;5;28;43mself\u001b[39;49m\u001b[38;5;241;43m.\u001b[39;49m\u001b[43marray\u001b[49m\u001b[38;5;241;43m.\u001b[39;49m\u001b[43mget_duck_array\u001b[49m\u001b[43m(\u001b[49m\u001b[43m)\u001b[49m\n",
      "File \u001b[1;32m~\\anaconda3\\envs\\oceanparcels\\lib\\site-packages\\xarray\\core\\indexing.py:554\u001b[0m, in \u001b[0;36mLazilyIndexedArray.get_duck_array\u001b[1;34m(self)\u001b[0m\n\u001b[0;32m    553\u001b[0m \u001b[38;5;28;01mdef\u001b[39;00m \u001b[38;5;21mget_duck_array\u001b[39m(\u001b[38;5;28mself\u001b[39m):\n\u001b[1;32m--> 554\u001b[0m     array \u001b[38;5;241m=\u001b[39m \u001b[38;5;28;43mself\u001b[39;49m\u001b[38;5;241;43m.\u001b[39;49m\u001b[43marray\u001b[49m\u001b[43m[\u001b[49m\u001b[38;5;28;43mself\u001b[39;49m\u001b[38;5;241;43m.\u001b[39;49m\u001b[43mkey\u001b[49m\u001b[43m]\u001b[49m\n\u001b[0;32m    555\u001b[0m     \u001b[38;5;66;03m# self.array[self.key] is now a numpy array when\u001b[39;00m\n\u001b[0;32m    556\u001b[0m     \u001b[38;5;66;03m# self.array is a BackendArray subclass\u001b[39;00m\n\u001b[0;32m    557\u001b[0m     \u001b[38;5;66;03m# and self.key is BasicIndexer((slice(None, None, None),))\u001b[39;00m\n\u001b[0;32m    558\u001b[0m     \u001b[38;5;66;03m# so we need the explicit check for ExplicitlyIndexed\u001b[39;00m\n\u001b[0;32m    559\u001b[0m     \u001b[38;5;28;01mif\u001b[39;00m \u001b[38;5;28misinstance\u001b[39m(array, ExplicitlyIndexed):\n",
      "File \u001b[1;32m~\\anaconda3\\envs\\oceanparcels\\lib\\site-packages\\xarray\\backends\\netCDF4_.py:99\u001b[0m, in \u001b[0;36mNetCDF4ArrayWrapper.__getitem__\u001b[1;34m(self, key)\u001b[0m\n\u001b[0;32m     98\u001b[0m \u001b[38;5;28;01mdef\u001b[39;00m \u001b[38;5;21m__getitem__\u001b[39m(\u001b[38;5;28mself\u001b[39m, key):\n\u001b[1;32m---> 99\u001b[0m     \u001b[38;5;28;01mreturn\u001b[39;00m \u001b[43mindexing\u001b[49m\u001b[38;5;241;43m.\u001b[39;49m\u001b[43mexplicit_indexing_adapter\u001b[49m\u001b[43m(\u001b[49m\n\u001b[0;32m    100\u001b[0m \u001b[43m        \u001b[49m\u001b[43mkey\u001b[49m\u001b[43m,\u001b[49m\u001b[43m \u001b[49m\u001b[38;5;28;43mself\u001b[39;49m\u001b[38;5;241;43m.\u001b[39;49m\u001b[43mshape\u001b[49m\u001b[43m,\u001b[49m\u001b[43m \u001b[49m\u001b[43mindexing\u001b[49m\u001b[38;5;241;43m.\u001b[39;49m\u001b[43mIndexingSupport\u001b[49m\u001b[38;5;241;43m.\u001b[39;49m\u001b[43mOUTER\u001b[49m\u001b[43m,\u001b[49m\u001b[43m \u001b[49m\u001b[38;5;28;43mself\u001b[39;49m\u001b[38;5;241;43m.\u001b[39;49m\u001b[43m_getitem\u001b[49m\n\u001b[0;32m    101\u001b[0m \u001b[43m    \u001b[49m\u001b[43m)\u001b[49m\n",
      "File \u001b[1;32m~\\anaconda3\\envs\\oceanparcels\\lib\\site-packages\\xarray\\core\\indexing.py:861\u001b[0m, in \u001b[0;36mexplicit_indexing_adapter\u001b[1;34m(key, shape, indexing_support, raw_indexing_method)\u001b[0m\n\u001b[0;32m    839\u001b[0m \u001b[38;5;250m\u001b[39m\u001b[38;5;124;03m\"\"\"Support explicit indexing by delegating to a raw indexing method.\u001b[39;00m\n\u001b[0;32m    840\u001b[0m \n\u001b[0;32m    841\u001b[0m \u001b[38;5;124;03mOuter and/or vectorized indexers are supported by indexing a second time\u001b[39;00m\n\u001b[1;32m   (...)\u001b[0m\n\u001b[0;32m    858\u001b[0m \u001b[38;5;124;03mIndexing result, in the form of a duck numpy-array.\u001b[39;00m\n\u001b[0;32m    859\u001b[0m \u001b[38;5;124;03m\"\"\"\u001b[39;00m\n\u001b[0;32m    860\u001b[0m raw_key, numpy_indices \u001b[38;5;241m=\u001b[39m decompose_indexer(key, shape, indexing_support)\n\u001b[1;32m--> 861\u001b[0m result \u001b[38;5;241m=\u001b[39m \u001b[43mraw_indexing_method\u001b[49m\u001b[43m(\u001b[49m\u001b[43mraw_key\u001b[49m\u001b[38;5;241;43m.\u001b[39;49m\u001b[43mtuple\u001b[49m\u001b[43m)\u001b[49m\n\u001b[0;32m    862\u001b[0m \u001b[38;5;28;01mif\u001b[39;00m numpy_indices\u001b[38;5;241m.\u001b[39mtuple:\n\u001b[0;32m    863\u001b[0m     \u001b[38;5;66;03m# index the loaded np.ndarray\u001b[39;00m\n\u001b[0;32m    864\u001b[0m     result \u001b[38;5;241m=\u001b[39m NumpyIndexingAdapter(result)[numpy_indices]\n",
      "File \u001b[1;32m~\\anaconda3\\envs\\oceanparcels\\lib\\site-packages\\xarray\\backends\\netCDF4_.py:112\u001b[0m, in \u001b[0;36mNetCDF4ArrayWrapper._getitem\u001b[1;34m(self, key)\u001b[0m\n\u001b[0;32m    110\u001b[0m     \u001b[38;5;28;01mwith\u001b[39;00m \u001b[38;5;28mself\u001b[39m\u001b[38;5;241m.\u001b[39mdatastore\u001b[38;5;241m.\u001b[39mlock:\n\u001b[0;32m    111\u001b[0m         original_array \u001b[38;5;241m=\u001b[39m \u001b[38;5;28mself\u001b[39m\u001b[38;5;241m.\u001b[39mget_array(needs_lock\u001b[38;5;241m=\u001b[39m\u001b[38;5;28;01mFalse\u001b[39;00m)\n\u001b[1;32m--> 112\u001b[0m         array \u001b[38;5;241m=\u001b[39m \u001b[43mgetitem\u001b[49m\u001b[43m(\u001b[49m\u001b[43moriginal_array\u001b[49m\u001b[43m,\u001b[49m\u001b[43m \u001b[49m\u001b[43mkey\u001b[49m\u001b[43m)\u001b[49m\n\u001b[0;32m    113\u001b[0m \u001b[38;5;28;01mexcept\u001b[39;00m \u001b[38;5;167;01mIndexError\u001b[39;00m:\n\u001b[0;32m    114\u001b[0m     \u001b[38;5;66;03m# Catch IndexError in netCDF4 and return a more informative\u001b[39;00m\n\u001b[0;32m    115\u001b[0m     \u001b[38;5;66;03m# error message.  This is most often called when an unsorted\u001b[39;00m\n\u001b[0;32m    116\u001b[0m     \u001b[38;5;66;03m# indexer is used before the data is loaded from disk.\u001b[39;00m\n\u001b[0;32m    117\u001b[0m     msg \u001b[38;5;241m=\u001b[39m (\n\u001b[0;32m    118\u001b[0m         \u001b[38;5;124m\"\u001b[39m\u001b[38;5;124mThe indexing operation you are attempting to perform \u001b[39m\u001b[38;5;124m\"\u001b[39m\n\u001b[0;32m    119\u001b[0m         \u001b[38;5;124m\"\u001b[39m\u001b[38;5;124mis not valid on netCDF4.Variable object. Try loading \u001b[39m\u001b[38;5;124m\"\u001b[39m\n\u001b[0;32m    120\u001b[0m         \u001b[38;5;124m\"\u001b[39m\u001b[38;5;124myour data into memory first by calling .load().\u001b[39m\u001b[38;5;124m\"\u001b[39m\n\u001b[0;32m    121\u001b[0m     )\n",
      "File \u001b[1;32msrc\\netCDF4\\_netCDF4.pyx:4739\u001b[0m, in \u001b[0;36mnetCDF4._netCDF4.Variable.__getitem__\u001b[1;34m()\u001b[0m\n",
      "File \u001b[1;32msrc\\netCDF4\\_netCDF4.pyx:5670\u001b[0m, in \u001b[0;36mnetCDF4._netCDF4.Variable._get\u001b[1;34m()\u001b[0m\n",
      "\u001b[1;31mMemoryError\u001b[0m: Unable to allocate 4.05 GiB for an array with shape (30787, 35296) and data type float32"
     ]
    }
   ],
   "source": [
    "# Initialize the FieldSet with ocean currents and wind data\n",
    "fieldset = FieldSet.from_netcdf(\n",
    "    filenames={\n",
    "        \"U\": \"Data/Processed_SSC_Data.nc\",\n",
    "        \"V\": \"Data/Processed_SSC_Data.nc\",\n",
    "        \"U_wind\": \"Data/Processed_Wind_Data.nc\",\n",
    "        \"V_wind\": \"Data/Processed_Wind_Data.nc\"\n",
    "    },\n",
    "    variables={\n",
    "        \"U\": \"u\",\n",
    "        \"V\": \"v\",\n",
    "        \"U_wind\": \"u10\",\n",
    "        \"V_wind\": \"v10\"\n",
    "    },\n",
    "    dimensions={\n",
    "        \"U\": {\"lon\": \"lon\", \"lat\": \"lat\", \"time\": \"time\"},\n",
    "        \"V\": {\"lon\": \"lon\", \"lat\": \"lat\", \"time\": \"time\"},\n",
    "        \"U_wind\": {\"lon\": \"longitude\", \"lat\": \"latitude\", \"time\": \"time\"},\n",
    "        \"V_wind\": {\"lon\": \"longitude\", \"lat\": \"latitude\", \"time\": \"time\"}\n",
    "    },\n",
    "    allow_time_extrapolation=True\n",
    ")\n",
    "\n",
    "# Load the land mask dataset and add it to the FieldSet\n",
    "land_mask_ds = xr.open_dataset('Data/land_sea_mask/MaltaLandSeaMask.nc')\n",
    "land_mask_field = Field.from_netcdf('Data/land_sea_mask/MaltaLandSeaMask.nc', variable='land_sea_mask', dimensions={'lon': 'lon', 'lat': 'lat'}, mesh='spherical', allow_time_extrapolation=True)\n",
    "fieldset.add_field(land_mask_field)"
   ]
  },
  {
   "cell_type": "markdown",
   "id": "4ef29475",
   "metadata": {},
   "source": [
    "### Initializing the Particles"
   ]
  },
  {
   "cell_type": "code",
   "execution_count": 4,
   "id": "599aafca",
   "metadata": {},
   "outputs": [],
   "source": [
    "## Given polygon boundaries\n",
    "#boundaries = {\n",
    "#    'min_lon': 13.9, 'max_lon': 14.81,\n",
    "#    'min_lat': 35.6, 'max_lat': 36.3\n",
    "#}\n",
    "#\n",
    "## Calculate center of the polygon\n",
    "#center_lon = (boundaries['min_lon'] + boundaries['max_lon']) / 2\n",
    "#center_lat = (boundaries['min_lat'] + boundaries['max_lat']) / 2\n",
    "#\n",
    "## Define a range within which particles will be released around the center\n",
    "## This will be a smaller area in the very center of your polygon\n",
    "#range_lon = (boundaries['max_lon'] - boundaries['min_lon']) / 10  # 10% of the total longitude range\n",
    "#range_lat = (boundaries['max_lat'] - boundaries['min_lat']) / 10  # 10% of the total latitude range\n",
    "#\n",
    "## Number of particles to release\n",
    "#num_particles = 20\n",
    "#\n",
    "## Generate random positions within the central area\n",
    "#lat_release = np.random.uniform(center_lat - range_lat, center_lat + range_lat, num_particles)\n",
    "#lon_release = np.random.uniform(center_lon - range_lon, center_lon + range_lon, num_particles)\n",
    "#\n",
    "## Create a ParticleSet with JITParticle\n",
    "#pset = ParticleSet(fieldset=fieldset, pclass=JITParticle, lon=lon_release, lat=lat_release)"
   ]
  },
  {
   "cell_type": "code",
   "execution_count": 5,
   "id": "dd63133b",
   "metadata": {},
   "outputs": [],
   "source": [
    "# Define polygon boundaries\n",
    "boundaries = {\n",
    "    'min_lon': 13.9, 'max_lon': 14.81,\n",
    "    'min_lat': 35.6, 'max_lat': 36.3\n",
    "}\n",
    "\n",
    "# Adjusting the release points to be closer to the edges of the boundary\n",
    "edge_buffer_lon = (boundaries['max_lon'] - boundaries['min_lon']) / 20  # 5% buffer from the longitude edges\n",
    "edge_buffer_lat = (boundaries['max_lat'] - boundaries['min_lat']) / 20  # 5% buffer from the latitude edges\n",
    "\n",
    "# Number of particles to release\n",
    "num_particles = 20\n",
    "\n",
    "# Generate positions close to the edges\n",
    "lat_release_near_edges = np.concatenate([\n",
    "    np.random.uniform(boundaries['min_lat'] + edge_buffer_lat, boundaries['min_lat'] + 2 * edge_buffer_lat, num_particles // 4),\n",
    "    np.random.uniform(boundaries['max_lat'] - 2 * edge_buffer_lat, boundaries['max_lat'] - edge_buffer_lat, num_particles // 4)\n",
    "])\n",
    "\n",
    "lon_release_near_edges = np.concatenate([\n",
    "    np.random.uniform(boundaries['min_lon'] + edge_buffer_lon, boundaries['min_lon'] + 2 * edge_buffer_lon, num_particles // 4),\n",
    "    np.random.uniform(boundaries['max_lon'] - 2 * edge_buffer_lon, boundaries['max_lon'] - edge_buffer_lon, num_particles // 4)\n",
    "])\n",
    "\n",
    "# To ensure even distribution, shuffle the arrays\n",
    "np.random.shuffle(lat_release_near_edges)\n",
    "np.random.shuffle(lon_release_near_edges)\n",
    "\n",
    "# Since we divided the particles into groups for each edge, we might need to adjust if num_particles is not a multiple of 4\n",
    "# This is a simple fix to ensure we have exactly num_particles\n",
    "lat_release = np.resize(lat_release_near_edges, num_particles)\n",
    "lon_release = np.resize(lon_release_near_edges, num_particles)\n",
    "\n",
    "# Create a ParticleSet with JITParticle positioned near the edges\n",
    "pset = ParticleSet(fieldset=fieldset, pclass=JITParticle, lon=lon_release, lat=lat_release)"
   ]
  },
  {
   "cell_type": "markdown",
   "id": "61dfaeef",
   "metadata": {},
   "source": [
    "### Define Simulation Parameters"
   ]
  },
  {
   "cell_type": "code",
   "execution_count": 6,
   "id": "7efcb897",
   "metadata": {},
   "outputs": [],
   "source": [
    "# Define number of days for the simulation\n",
    "runtime = timedelta(days=1046)  \n",
    "\n",
    "#--------------------------------------------------------------------------------------------------------------------------\n",
    "\n",
    "# Option 1: Fixed timestep (e.g., 10 minutes)\n",
    "# dt = timedelta(minutes=12)\n",
    "\n",
    "# Option 2: Timestep that aligns with your data intervals (e.g., 30 minutes or 1 hour)\n",
    "#dt = timedelta(minutes=30)\n",
    "dt = timedelta(hours=12)\n",
    "\n",
    "# Option 3: If you want to use the exact timestep as your data\n",
    "# dt = timedelta(hours=12)  # if your data interval is 12 hours"
   ]
  },
  {
   "cell_type": "markdown",
   "id": "8f83be22",
   "metadata": {},
   "source": [
    "### Execute the Simulation"
   ]
  },
  {
   "cell_type": "code",
   "execution_count": 7,
   "id": "18b2da84",
   "metadata": {},
   "outputs": [
    {
     "name": "stdout",
     "output_type": "stream",
     "text": [
      "INFO: Output files are stored in debris_simulation_output.zarr.\n",
      "100%|██████████| 90374400.0/90374400.0 [07:10<00:00, 209885.92it/s]\n"
     ]
    }
   ],
   "source": [
    "def CheckOutOfBounds(particle, fieldset, time):\n",
    "    if particle.state == StatusCode.ErrorOutOfBounds:\n",
    "        particle.delete()\n",
    "\n",
    "def CheckError(particle, fieldset, time):\n",
    "    if particle.state >= 50:  # This captures all Errors\n",
    "        particle.delete()\n",
    "\n",
    "# Execute the simulation\n",
    "output_file = pset.ParticleFile(name=\"debris_simulation_output.zarr\", outputdt=timedelta(minutes=720))  # Save output every hour\n",
    "pset.execute(\n",
    "    AdvectionRK4 + pset.Kernel(CheckOutOfBounds) + pset.Kernel(CheckError),  # Combine the advection kernel with the custom delete kernel\n",
    "    runtime=runtime,\n",
    "    dt=dt,\n",
    "    output_file=output_file,\n",
    ")"
   ]
  },
  {
   "cell_type": "markdown",
   "id": "48df7a26",
   "metadata": {},
   "source": [
    "### Visualise"
   ]
  },
  {
   "cell_type": "code",
   "execution_count": 10,
   "id": "a8f75c58",
   "metadata": {},
   "outputs": [],
   "source": [
    "## Load the simulation output\n",
    "#ds = xr.open_zarr(\"debris_simulation_output.zarr\")\n",
    "#\n",
    "## Plot trajectories\n",
    "#plt.figure(figsize=(10, 6))\n",
    "#plt.scatter(ds.lon, ds.lat, s=1, c=ds.time, cmap='viridis', marker='o')\n",
    "#plt.colorbar(label='Time')\n",
    "#plt.xlabel('Longitude')\n",
    "#plt.ylabel('Latitude')\n",
    "#plt.title('Particle Trajectories')\n",
    "#plt.show()"
   ]
  },
  {
   "cell_type": "code",
   "execution_count": 9,
   "id": "bb17aec9",
   "metadata": {},
   "outputs": [
    {
     "data": {
      "image/png": "[encoded data removed]",
      "text/plain": [
       "<Figure size 1000x600 with 2 Axes>"
      ]
     },
     "metadata": {},
     "output_type": "display_data"
    }
   ],
   "source": [
    "# Load the simulation output\n",
    "ds = xr.open_zarr(\"debris_simulation_output.zarr\")\n",
    "\n",
    "# Define the geographic boundaries\n",
    "extent = [13.9, 14.81, 35.6, 36.3]\n",
    "\n",
    "# Create a GeoAxes with the PlateCarree projection\n",
    "fig, ax = plt.subplots(figsize=(10, 6), subplot_kw={'projection': ccrs.PlateCarree()})\n",
    "ax.set_extent(extent)\n",
    "\n",
    "# Add land, coastlines, and the border of the map\n",
    "ax.add_feature(cfeature.LAND)\n",
    "ax.add_feature(cfeature.COASTLINE)\n",
    "ax.add_feature(cfeature.BORDERS, linestyle=':')\n",
    "\n",
    "# Plot the particle trajectories\n",
    "scatter = ax.scatter(ds.lon, ds.lat, s=1, c=ds.time, cmap='viridis', marker='o', transform=ccrs.PlateCarree())\n",
    "\n",
    "# Add a colorbar and labels\n",
    "cbar = plt.colorbar(scatter, ax=ax, label='Time')\n",
    "ax.set_xlabel('Longitude')\n",
    "ax.set_ylabel('Latitude')\n",
    "ax.set_title('Particle Trajectories')\n",
    "\n",
    "plt.show()"
   ]
  }
 ],
 "metadata": {
  "kernelspec": {
   "display_name": "Python 3 (ipykernel)",
   "language": "python",
   "name": "python3"
  },
  "language_info": {
   "codemirror_mode": {
    "name": "ipython",
    "version": 3
   },
   "file_extension": ".py",
   "mimetype": "text/x-python",
   "name": "python",
   "nbconvert_exporter": "python",
   "pygments_lexer": "ipython3",
   "version": "3.9.13"
  }
 },
 "nbformat": 4,
 "nbformat_minor": 5
}
