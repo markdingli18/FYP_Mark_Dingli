{
 "cells": [
  {
   "cell_type": "code",
   "execution_count": 2,
   "metadata": {},
   "outputs": [
    {
     "name": "stdout",
     "output_type": "stream",
     "text": [
      "Number of NaN values in 'u': 0\n",
      "Number of NaN values in 'v': 0\n"
     ]
    }
   ],
   "source": [
    "from netCDF4 import Dataset\n",
    "import numpy as np\n",
    "import xarray as xr\n",
    "\n",
    "file_path = r\"Data\\predicted_sea_surface_currents_updated.nc\"\n",
    "\n",
    "# Open the NetCDF file\n",
    "ds = Dataset(file_path, 'r')\n",
    "\n",
    "# Access the 'u' and 'v' variables and count the NaN values\n",
    "u_data = ds.variables['u'][:]\n",
    "v_data = ds.variables['v'][:]\n",
    "\n",
    "nan_count_u = np.isnan(u_data).sum()\n",
    "nan_count_v = np.isnan(v_data).sum()\n",
    "\n",
    "print(f\"Number of NaN values in 'u': {nan_count_u}\")\n",
    "print(f\"Number of NaN values in 'v': {nan_count_v}\")\n",
    "\n",
    "# Close the dataset\n",
    "ds.close()"
   ]
  },
  {
   "cell_type": "code",
   "execution_count": 5,
   "metadata": {},
   "outputs": [
    {
     "name": "stdout",
     "output_type": "stream",
     "text": [
      "Number of unique 'u' values: 30228\n",
      "Some unique 'u' values: [-0.16463564 -0.15943035 -0.15889309 ...  0.35633913  0.35699391\n",
      "  0.35987386]\n",
      "Number of unique 'v' values: 30312\n",
      "Some unique 'v' values: [-0.29544136 -0.29322222 -0.29194859 ...  0.12495745  0.12560597\n",
      "  0.12623569]\n"
     ]
    }
   ],
   "source": [
    "# Load the predicted dataset\n",
    "predicted_ds = xr.open_dataset('Data/predicted_sea_surface_currents_updated.nc')\n",
    "\n",
    "# Extract the 'u' and 'v' variables from the dataset\n",
    "predicted_u = predicted_ds['u'].values\n",
    "predicted_v = predicted_ds['v'].values\n",
    "\n",
    "# Check for unique values in 'u' and 'v'\n",
    "unique_u = np.unique(predicted_u)\n",
    "unique_v = np.unique(predicted_v)\n",
    "\n",
    "# Print the number of unique values and some of the unique values for inspection\n",
    "print(f\"Number of unique 'u' values: {len(unique_u)}\")\n",
    "print(f\"Some unique 'u' values: {unique_u[:-10]}\")  # Print first 10 unique values as an example\n",
    "\n",
    "print(f\"Number of unique 'v' values: {len(unique_v)}\")\n",
    "print(f\"Some unique 'v' values: {unique_v[:-10]}\")  # Print first 10 unique values as an example\n"
   ]
  }
 ],
 "metadata": {
  "kernelspec": {
   "display_name": "base",
   "language": "python",
   "name": "python3"
  },
  "language_info": {
   "codemirror_mode": {
    "name": "ipython",
    "version": 3
   },
   "file_extension": ".py",
   "mimetype": "text/x-python",
   "name": "python",
   "nbconvert_exporter": "python",
   "pygments_lexer": "ipython3",
   "version": "3.9.18"
  }
 },
 "nbformat": 4,
 "nbformat_minor": 2
}
