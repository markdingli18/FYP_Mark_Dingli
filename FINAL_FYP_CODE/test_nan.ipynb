{
 "cells": [
  {
   "cell_type": "code",
   "execution_count": 5,
   "metadata": {},
   "outputs": [
    {
     "name": "stdout",
     "output_type": "stream",
     "text": [
      "Number of NaN values in 'u': 1718\n",
      "Number of NaN values in 'v': 1718\n"
     ]
    }
   ],
   "source": [
    "from netCDF4 import Dataset\n",
    "import numpy as np\n",
    "\n",
    "file_path = r\"Data\\sea_surface_currents\\SSC_MaltaSicily_2023\\2023\\01\\31\\CODAR_MALT_2023_01_31_1400-1675173600.nc\"\n",
    "\n",
    "# Open the NetCDF file\n",
    "ds = Dataset(file_path, 'r')\n",
    "\n",
    "# Access the 'u' and 'v' variables and count the NaN values\n",
    "u_data = ds.variables['u'][:]\n",
    "v_data = ds.variables['v'][:]\n",
    "\n",
    "nan_count_u = np.isnan(u_data).sum()\n",
    "nan_count_v = np.isnan(v_data).sum()\n",
    "\n",
    "print(f\"Number of NaN values in 'u': {nan_count_u}\")\n",
    "print(f\"Number of NaN values in 'v': {nan_count_v}\")\n",
    "\n",
    "# Close the dataset\n",
    "ds.close()"
   ]
  }
 ],
 "metadata": {
  "kernelspec": {
   "display_name": "base",
   "language": "python",
   "name": "python3"
  },
  "language_info": {
   "codemirror_mode": {
    "name": "ipython",
    "version": 3
   },
   "file_extension": ".py",
   "mimetype": "text/x-python",
   "name": "python",
   "nbconvert_exporter": "python",
   "pygments_lexer": "ipython3",
   "version": "3.9.18"
  }
 },
 "nbformat": 4,
 "nbformat_minor": 2
}
