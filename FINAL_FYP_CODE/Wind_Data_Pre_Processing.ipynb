{
 "cells": [
  {
   "cell_type": "markdown",
   "id": "f9d53279",
   "metadata": {},
   "source": [
    "### Importing Libraries"
   ]
  },
  {
   "cell_type": "code",
   "execution_count": 1,
   "id": "a773b6f2",
   "metadata": {},
   "outputs": [],
   "source": [
    "import xarray as xr\n",
    "import pandas as pd\n",
    "from tqdm import tqdm"
   ]
  },
  {
   "cell_type": "markdown",
   "id": "3ffc5b38",
   "metadata": {},
   "source": [
    "### Loading, Subsetting, and Saving Data"
   ]
  },
  {
   "cell_type": "code",
   "execution_count": 2,
   "id": "e33268fd",
   "metadata": {},
   "outputs": [
    {
     "name": "stderr",
     "output_type": "stream",
     "text": [
      "Interpolating Wind Data: 100%|██████████| 2091/2091 [29:33<00:00,  1.18it/s]\n"
     ]
    },
    {
     "name": "stdout",
     "output_type": "stream",
     "text": [
      "Processed and interpolated wind data saved to Data/Processed_Wind_Data.nc\n",
      "=============================================================================================================================\n",
      "Wind data from 2021-01-01 to 2023-11-12 within the specified spatial bounds has been processed and interpolated.\n",
      "=============================================================================================================================\n"
     ]
    }
   ],
   "source": [
    "# Define paths and spatial/temporal bounds\n",
    "wind_data_path = \"Data/Wind/data.nc\"\n",
    "OUTPUT_FILE = \"Data/Processed_Wind_Data.nc\"\n",
    "LON_MIN = 13.9\n",
    "LON_MAX = 14.81\n",
    "LAT_MIN = 35.6\n",
    "LAT_MAX = 36.3\n",
    "START_DATE = '2021-01-01'\n",
    "END_DATE = '2023-11-12'\n",
    "\n",
    "# Open the wind data file\n",
    "wind_ds = xr.open_dataset(wind_data_path)\n",
    "\n",
    "# Ensure latitude is correctly oriented (ascending order for selection)\n",
    "if wind_ds.latitude[0] > wind_ds.latitude[-1]:\n",
    "    wind_ds = wind_ds.reindex(latitude=list(reversed(wind_ds.latitude)))\n",
    "\n",
    "# Create a date range for the expected time points\n",
    "date_range = pd.date_range(start=START_DATE, end=END_DATE, freq='12H')\n",
    "\n",
    "# Initialize an empty list to store interpolated datasets\n",
    "interpolated_datasets = []\n",
    "\n",
    "for target_time in tqdm(date_range, desc=\"Interpolating Wind Data\"):\n",
    "    # Find the closest time in the dataset to the target_time\n",
    "    closest_time = min(wind_ds.time, key=lambda x: abs(pd.to_datetime(x.values) - target_time))\n",
    "    \n",
    "    # Select the data slice closest in time\n",
    "    ds_slice = wind_ds.sel(time=closest_time)\n",
    "    \n",
    "    # Assign the target_time to this slice to align with the interpolation grid\n",
    "    ds_slice = ds_slice.assign_coords(time=target_time)\n",
    "    \n",
    "    interpolated_datasets.append(ds_slice)\n",
    "\n",
    "# Concatenate all the time slices into a single dataset\n",
    "interpolated_ds = xr.concat(interpolated_datasets, dim='time')\n",
    "\n",
    "# Subset the dataset to the specified spatial bounds\n",
    "wind_ds_subset = interpolated_ds.sel(\n",
    "    longitude=slice(LON_MIN, LON_MAX),\n",
    "    latitude=slice(LAT_MIN, LAT_MAX),\n",
    ")\n",
    "\n",
    "# Interpolate to fill any missing time points in the final dataset\n",
    "wind_ds_final = wind_ds_subset.interp(time=date_range)\n",
    "\n",
    "# Save the final interpolated and subset dataset to a new file\n",
    "wind_ds_final.to_netcdf(OUTPUT_FILE)\n",
    "print(f\"Processed and interpolated wind data saved to {OUTPUT_FILE}\")\n",
    "print(\"=\"*125)\n",
    "print(f\"Wind data from {START_DATE} to {END_DATE} within the specified spatial bounds has been processed and interpolated.\")\n",
    "print(\"=\"*125)\n",
    "\n",
    "# Close the original dataset to free resources\n",
    "wind_ds.close()"
   ]
  },
  {
   "cell_type": "markdown",
   "id": "26aa651f",
   "metadata": {},
   "source": [
    "### Ensuring that the merged file is correct"
   ]
  },
  {
   "cell_type": "code",
   "execution_count": 9,
   "id": "68840017",
   "metadata": {},
   "outputs": [
    {
     "name": "stdout",
     "output_type": "stream",
     "text": [
      "=============================================================================================================================\n",
      "Wind Dataset Information\n",
      "=============================================================================================================================\n",
      "\n",
      "Dataset Dimensions:\n",
      "FrozenMappingWarningOnValuesAccess({'longitude': 2, 'latitude': 2, 'time': 2091})\n",
      "\n",
      "Dataset Coordinates:\n",
      "Coordinates:\n",
      "  * longitude  (longitude) float32 14.1 14.5\n",
      "  * latitude   (latitude) float32 35.6 36.0\n",
      "  * time       (time) datetime64[ns] 2021-01-01 ... 2023-11-12\n",
      "\n",
      "Data Variables in the Dataset:\n",
      "Data variables:\n",
      "    v10      (time, latitude, longitude) float64 ...\n",
      "    u10      (time, latitude, longitude) float64 ...\n",
      "\n",
      "Attributes (Metadata) in the Dataset:\n",
      "{'Conventions': 'CF-1.6', 'history': '2023-12-17 08:43:38 GMT by grib_to_netcdf-2.25.1: /opt/ecmwf/mars-client/bin/grib_to_netcdf.bin -S param -o /cache/tmp/77d2d03f-e095-4d90-b83e-999c43b3595c-adaptor.mars_constrained.external-1702802610.7212312-29905-15-tmp.nc /cache/tmp/77d2d03f-e095-4d90-b83e-999c43b3595c-adaptor.mars_constrained.external-1702802608.214588-29905-14-tmp.grib'}\n",
      "\n",
      "Expected Time Points: 2091\n",
      "Actual Time Points: 2091\n",
      "\n",
      "Latitude Range in the Dataset: 35.599998474121094 to 36.0\n",
      "Longitude Range in the Dataset: 14.100000381469727 to 14.5\n",
      "\n",
      "=============================================================================================================================\n"
     ]
    }
   ],
   "source": [
    "# Open the processed wind dataset\n",
    "ds = xr.open_dataset(OUTPUT_FILE)\n",
    "\n",
    "# Calculate the expected number of time points\n",
    "date_range = pd.date_range(start=START_DATE, end=END_DATE, freq='12H')\n",
    "expected_time_points = len(date_range)\n",
    "\n",
    "# Print section separator\n",
    "print(\"=\" * 125)\n",
    "print(\"Wind Dataset Information\")\n",
    "print(\"=\" * 125)\n",
    "\n",
    "# Now, print the structure and check the dataset\n",
    "print(\"\\nDataset Dimensions:\")\n",
    "print(ds.dims)\n",
    "print(\"\\nDataset Coordinates:\")\n",
    "print(ds.coords)\n",
    "print(\"\\nData Variables in the Dataset:\")\n",
    "print(ds.data_vars)\n",
    "print(\"\\nAttributes (Metadata) in the Dataset:\")\n",
    "print(ds.attrs)\n",
    "\n",
    "# Check that the time dimension is as expected\n",
    "actual_time_points = ds.sizes['time']\n",
    "print(\"\\nExpected Time Points:\", expected_time_points)\n",
    "print(\"Actual Time Points:\", actual_time_points)\n",
    "\n",
    "# Check that the lat/lon are within the specified bounds\n",
    "lat_min, lat_max = ds['latitude'].min().values, ds['latitude'].max().values\n",
    "lon_min, lon_max = ds['longitude'].min().values, ds['longitude'].max().values\n",
    "print(\"\\nLatitude Range in the Dataset:\", lat_min, \"to\", lat_max)\n",
    "print(\"Longitude Range in the Dataset:\", lon_min, \"to\", lon_max)\n",
    "\n",
    "# Check for expected variables\n",
    "assert 'u10' in ds.variables, \"u10 variable is missing from the dataset\"\n",
    "assert 'v10' in ds.variables, \"v10 variable is missing from the dataset\"\n",
    "\n",
    "print(\"\")\n",
    "print(\"=\" * 125)\n",
    "\n",
    "# Close the dataset after inspection\n",
    "ds.close()"
   ]
  }
 ],
 "metadata": {
  "kernelspec": {
   "display_name": "Python 3 (ipykernel)",
   "language": "python",
   "name": "python3"
  },
  "language_info": {
   "codemirror_mode": {
    "name": "ipython",
    "version": 3
   },
   "file_extension": ".py",
   "mimetype": "text/x-python",
   "name": "python",
   "nbconvert_exporter": "python",
   "pygments_lexer": "ipython3",
   "version": "3.9.13"
  }
 },
 "nbformat": 4,
 "nbformat_minor": 5
}
