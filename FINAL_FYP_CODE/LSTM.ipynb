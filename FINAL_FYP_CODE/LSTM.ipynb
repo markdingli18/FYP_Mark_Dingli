{
 "cells": [
  {
   "cell_type": "markdown",
   "metadata": {},
   "source": [
    "# Sea Surface Current Prediction using LSTM\n",
    "\n",
    "This notebook outlines the process of loading, inspecting, and preprocessing sea surface current data (`u` and `v` components) for training an LSTM model. The goal is to predict sea surface currents for the next 24 hours based on historical data."
   ]
  },
  {
   "cell_type": "markdown",
   "metadata": {},
   "source": [
    "### Import Libraries"
   ]
  },
  {
   "cell_type": "code",
   "execution_count": 1,
   "metadata": {},
   "outputs": [],
   "source": [
    "import xarray as xr\n",
    "from sklearn.model_selection import train_test_split\n",
    "from sklearn.preprocessing import MinMaxScaler\n",
    "import numpy as np\n",
    "import pandas as pd\n",
    "from keras.models import Sequential, load_model\n",
    "from keras.layers import LSTM, Dense, Dropout, Bidirectional\n",
    "from keras.callbacks import EarlyStopping, ModelCheckpoint\n",
    "from keras.optimizers import Adam\n",
    "import matplotlib.pyplot as plt\n",
    "from sklearn.metrics import mean_squared_error, mean_absolute_error\n",
    "import joblib\n",
    "import warnings\n",
    "from sklearn.exceptions import DataConversionWarning"
   ]
  },
  {
   "cell_type": "markdown",
   "metadata": {},
   "source": [
    "### Load and Inspect Data\n",
    "\n",
    "The initial step involves loading the dataset using xarray, which facilitates working with multi-dimensional arrays, and inspecting its structure to understand the available dimensions, coordinates, and variables."
   ]
  },
  {
   "cell_type": "code",
   "execution_count": 2,
   "metadata": {},
   "outputs": [
    {
     "name": "stdout",
     "output_type": "stream",
     "text": [
      "Dataset structure:\n",
      "<xarray.Dataset>\n",
      "Dimensions:  (time: 168, lat: 52, lon: 43)\n",
      "Coordinates:\n",
      "  * time     (time) datetime64[ns] 2023-01-01 ... 2023-01-07T23:00:00\n",
      "  * lat      (lat) float32 35.74 35.77 35.79 35.81 ... 36.81 36.84 36.86 36.88\n",
      "  * lon      (lon) float32 13.68 13.72 13.76 13.8 ... 15.26 15.3 15.34 15.38\n",
      "Data variables:\n",
      "    u        (time, lat, lon) float64 ...\n",
      "    v        (time, lat, lon) float64 ...\n",
      "    stdu     (time, lat, lon) float64 ...\n",
      "    stdv     (time, lat, lon) float64 ...\n",
      "    cov      (time, lat, lon) float64 ...\n",
      "    velo     (time, lat, lon) float64 ...\n",
      "    head     (time, lat, lon) float64 ...\n",
      "Attributes: (12/17)\n",
      "    NC_GLOBAL.Title:                   Near-Real time Surface Ocean Velocity\n",
      "    NC_GLOBAL.origin:                  MRAG (measured);LICA (measured);SOPU (...\n",
      "    NC_GLOBAL.source:                  HF Radar Derived Surface Currents obta...\n",
      "    NC_GLOBAL.history:                 08-Jun-2023 19:17:47\n",
      "    NC_GLOBAL.grid_type:               REGULAR\n",
      "    NC_GLOBAL.Conventions:             CF-1.4\n",
      "    ...                                ...\n",
      "    NC_GLOBAL.grid_resolution:         3.0km\n",
      "    NC_GLOBAL.geospatial_lat_max:      36.8802\n",
      "    NC_GLOBAL.geospatial_lat_min:      35.7447\n",
      "    NC_GLOBAL.geospatial_lon_max:      15.3804\n",
      "    NC_GLOBAL.geospatial_lon_min:      13.6768\n",
      "    NC_GLOBAL.netcdf_library_version:  v2 \n",
      "\n",
      "===============================================================================================================================================================================\n",
      "\n",
      "Extracted latitude values:\n",
      "[35.7447 35.767  35.7892 35.8115 35.8338 35.856  35.8783 35.9006 35.9228\n",
      " 35.9451 35.9673 35.9896 36.0119 36.0341 36.0564 36.0787 36.1009 36.1232\n",
      " 36.1455 36.1677 36.19   36.2123 36.2345 36.2568 36.2791 36.3013 36.3236\n",
      " 36.3458 36.3681 36.3904 36.4126 36.4349 36.4572 36.4794 36.5017 36.524\n",
      " 36.5462 36.5685 36.5908 36.613  36.6353 36.6576 36.6798 36.7021 36.7243\n",
      " 36.7466 36.7689 36.7911 36.8134 36.8357 36.8579 36.8802] \n",
      "\n",
      "\n",
      "Extracted longitude values:\n",
      "[13.6768 13.7174 13.7579 13.7985 13.839  13.8796 13.9202 13.9607 14.0013\n",
      " 14.0419 14.0824 14.123  14.1635 14.2041 14.2447 14.2852 14.3258 14.3664\n",
      " 14.4069 14.4475 14.488  14.5286 14.5692 14.6097 14.6503 14.6908 14.7314\n",
      " 14.772  14.8125 14.8531 14.8937 14.9342 14.9748 15.0153 15.0559 15.0965\n",
      " 15.137  15.1776 15.2182 15.2587 15.2993 15.3398 15.3804] \n",
      "\n",
      "===============================================================================================================================================================================\n",
      "\n",
      "Dataset start time: 2023-01-01T00:00:00.000000000 \n",
      "\n",
      "Dataset end time: 2023-01-07T23:00:00.000000000 \n",
      "\n",
      "===============================================================================================================================================================================\n",
      "\n",
      "Time range:\n",
      "DatetimeIndex(['2023-01-01 00:00:00', '2023-01-01 01:00:00',\n",
      "               '2023-01-01 02:00:00', '2023-01-01 03:00:00',\n",
      "               '2023-01-01 04:00:00', '2023-01-01 05:00:00',\n",
      "               '2023-01-01 06:00:00', '2023-01-01 07:00:00',\n",
      "               '2023-01-01 08:00:00', '2023-01-01 09:00:00',\n",
      "               ...\n",
      "               '2023-01-07 14:00:00', '2023-01-07 15:00:00',\n",
      "               '2023-01-07 16:00:00', '2023-01-07 17:00:00',\n",
      "               '2023-01-07 18:00:00', '2023-01-07 19:00:00',\n",
      "               '2023-01-07 20:00:00', '2023-01-07 21:00:00',\n",
      "               '2023-01-07 22:00:00', '2023-01-07 23:00:00'],\n",
      "              dtype='datetime64[ns]', length=168, freq='H') \n",
      "\n",
      "===============================================================================================================================================================================\n"
     ]
    }
   ],
   "source": [
    "# Load your dataset\n",
    "file_path = 'Data/Processed_SSC_Data.nc'\n",
    "ds = xr.open_dataset(file_path)\n",
    "\n",
    "# Print dataset structure\n",
    "print(\"Dataset structure:\")\n",
    "print(ds, \"\\n\")\n",
    "print(\"=\"*175)\n",
    "\n",
    "# Extract latitude and longitude values directly from the dataset\n",
    "lats = ds['lat'].values\n",
    "lons = ds['lon'].values\n",
    "\n",
    "# Print the extracted latitude and longitude values\n",
    "print(\"\\nExtracted latitude values:\")\n",
    "print(lats, \"\\n\")\n",
    "print(\"\\nExtracted longitude values:\")\n",
    "print(lons, \"\\n\")\n",
    "print(\"=\"*175)\n",
    "\n",
    "start_time = ds['time'].values[0]\n",
    "end_time = ds['time'].values[-1]\n",
    "\n",
    "# Print the start and end times from the dataset\n",
    "print(\"\\nDataset start time:\", start_time, \"\\n\")\n",
    "print(\"Dataset end time:\", end_time, \"\\n\")\n",
    "print(\"=\"*175)\n",
    "\n",
    "# Create a time range for the predictions\n",
    "times = pd.date_range(start=start_time, end=end_time, freq='H')\n",
    "\n",
    "# Print the created time range for predictions\n",
    "print(\"\\nTime range:\")\n",
    "print(times, \"\\n\")\n",
    "print(\"=\"*175)"
   ]
  },
  {
   "cell_type": "markdown",
   "metadata": {},
   "source": [
    "## Data Preprocessing\n",
    "\n",
    "Prepare the data for LSTM modeling, which involves several key steps:\n",
    "\n",
    "1. Conversion to DataFrame: Convert the dataset to a pandas DataFrame for easier manipulation.\n",
    "2. Handling NaN Values: Fill NaN values with the mean of each column.\n",
    "3. Normalization: Scale the 'u' and 'v' features to a range between 0 and 1.\n",
    "4. Sequence Creation: Generate input sequences for the LSTM model.\n",
    "5. Train-Test Split: Divide the data into training, validation, and testing sets."
   ]
  },
  {
   "cell_type": "code",
   "execution_count": 3,
   "metadata": {},
   "outputs": [
    {
     "name": "stdout",
     "output_type": "stream",
     "text": [
      "DataFrame created with shape: (375648, 10)\n",
      "===============================================================================================================================================================================\n"
     ]
    }
   ],
   "source": [
    "# Convert dataset to DataFrame and reset index\n",
    "df = ds.to_dataframe().reset_index()\n",
    "\n",
    "print(f\"DataFrame created with shape: {df.shape}\")\n",
    "print(\"=\"*175)\n",
    "\n",
    "# Fill NaN values in 'u' and 'v' columns with their respective column means\n",
    "df['u'] = df['u'].fillna(df['u'].mean())\n",
    "df['v'] = df['v'].fillna(df['v'].mean())\n",
    "\n",
    "# Initialize MinMaxScaler with range 0 to 1\n",
    "scaler = MinMaxScaler(feature_range=(0, 1))\n",
    "\n",
    "# Select 'u' and 'v' columns for normalization\n",
    "features = df[['u', 'v']]\n",
    "features_scaled = scaler.fit_transform(features)\n",
    "\n",
    "# Save the configured scaler to a file for future use\n",
    "joblib.dump(scaler, 'Data/LSTM/lstm_scaler.save')\n",
    "\n",
    "# Update 'u' and 'v' columns in DataFrame with scaled values\n",
    "df[['u', 'v']] = features_scaled\n",
    "\n",
    "# Specify input and target data for modeling\n",
    "input_data = df[['u', 'v']] # Features for prediction\n",
    "target_data = df[['u', 'v']] # Targets to predict"
   ]
  },
  {
   "cell_type": "markdown",
   "metadata": {},
   "source": [
    "### Create Sequences for LSTM"
   ]
  },
  {
   "cell_type": "code",
   "execution_count": 4,
   "metadata": {},
   "outputs": [
    {
     "name": "stdout",
     "output_type": "stream",
     "text": [
      "Sequences created. Input shape: (375601, 24, 2), Target shape: (375601, 24, 2)\n",
      "\n",
      "===============================================================================================================================================================================\n"
     ]
    }
   ],
   "source": [
    "# Function to generate sequences for model training with corresponding target sequences\n",
    "def create_sequences(input_data, target_data, sequence_length, prediction_length):\n",
    "    X, y = [], []\n",
    "    # Iterate through input_data to create sequences of specified length\n",
    "    for i in range(len(input_data) - sequence_length - prediction_length + 1):\n",
    "        # Append sequence of input_data to X\n",
    "        X.append(input_data.iloc[i:i+sequence_length].values)\n",
    "        # Append corresponding target sequence to y\n",
    "        y.append(target_data.iloc[i+sequence_length:i+sequence_length+prediction_length].values)\n",
    "    return np.array(X), np.array(y)\n",
    "\n",
    "# Set parameters for creating sequences\n",
    "sequence_length = 24  # Length of each input sequence (24 hours)\n",
    "prediction_length = 24  # Length of each target sequence to predict (24 hours)\n",
    "\n",
    "# Create sequences using defined parameters\n",
    "X, y = create_sequences(input_data, target_data, sequence_length, prediction_length)\n",
    "\n",
    "print(f\"Sequences created. Input shape: {X.shape}, Target shape: {y.shape}\\n\")\n",
    "print(\"=\"*175)"
   ]
  },
  {
   "cell_type": "markdown",
   "metadata": {},
   "source": [
    "###  Train-Test Split"
   ]
  },
  {
   "cell_type": "code",
   "execution_count": 5,
   "metadata": {},
   "outputs": [
    {
     "name": "stdout",
     "output_type": "stream",
     "text": [
      "Data split into training, validation, and testing sets. Training shape: (262920, 24, 2), Validation shape: (56340, 24, 2), Testing shape: (56341, 24, 2)\n",
      "\n",
      "Training data contains NaN: False\n",
      "Validation data contains NaN: False\n",
      "\n",
      "===============================================================================================================================================================================\n"
     ]
    }
   ],
   "source": [
    "# Split data into training set (70%) and temporary test set (30%) without shuffling\n",
    "X_train, X_temp, y_train, y_temp = train_test_split(X, y, test_size=0.3, random_state=42, shuffle=False)\n",
    "\n",
    "# Further split temporary test set into validation and test sets, each being 15% of the original data\n",
    "X_val, X_test, y_val, y_test = train_test_split(X_temp, y_temp, test_size=0.5, random_state=42, shuffle=False)\n",
    "\n",
    "print(f\"Data split into training, validation, and testing sets. Training shape: {X_train.shape}, Validation shape: {X_val.shape}, Testing shape: {X_test.shape}\\n\")\n",
    "\n",
    "# Check for NaNs or infinite values in the data\n",
    "print(f\"Training data contains NaN: {np.isnan(X_train).any() or np.isnan(y_train).any()}\")\n",
    "print(f\"Validation data contains NaN: {np.isnan(X_val).any() or np.isnan(y_val).any()}\\n\")\n",
    "print(\"=\"*175)"
   ]
  },
  {
   "cell_type": "markdown",
   "metadata": {},
   "source": [
    "### Hyperparameters"
   ]
  },
  {
   "cell_type": "code",
   "execution_count": 6,
   "metadata": {},
   "outputs": [],
   "source": [
    "# Hyperparameters for the LSTM model\n",
    "lstm_units = 64  # Number of units in each LSTM layer\n",
    "dropout_rate = 0.3  # Dropout rate for regularization\n",
    "dense_units = 50  # Number of units in the dense layer\n",
    "output_units = 24 * 2  # Number of output units in the final layer (predicting 24 hours ahead for both 'u' and 'v')\n",
    "activation_lstm = 'tanh'  # Activation function for LSTM layers\n",
    "activation_dense = 'relu'  # Activation function for dense layer\n",
    "input_shape = (24, 2)  # Shape of the input data (24 hours of data with 2 features each)\n",
    "learning_rate = 0.001  # Learning rate for the optimizer\n",
    "clipvalue = 1.0  # Gradient clipping value\n",
    "loss_function = 'mean_squared_error'  # Loss function for model training\n",
    "lstm_model_path = 'Data/LSTM/Saved_Models/lstm_best_model.h5'  # Path to save the best LSTM model\n",
    "epochs= 100 # Number of epochs for model training\n",
    "batch_size= 128 # Batch size for model training"
   ]
  },
  {
   "cell_type": "markdown",
   "metadata": {},
   "source": [
    "### Define LSTM Model Architecture\n",
    "\n",
    "Define an LSTM model architecture for our time series forecasting problem. The model will consist of an LSTM layer followed by a Dense layer to predict the next 24 hours of `u` and `v` values based on the previous 24 hours."
   ]
  },
  {
   "cell_type": "code",
   "execution_count": 7,
   "metadata": {},
   "outputs": [
    {
     "name": "stdout",
     "output_type": "stream",
     "text": [
      "Model: \"sequential\"\n",
      "_________________________________________________________________\n",
      " Layer (type)                Output Shape              Param #   \n",
      "=================================================================\n",
      " bidirectional (Bidirectiona  (None, 24, 128)          34304     \n",
      " l)                                                              \n",
      "                                                                 \n",
      " dropout (Dropout)           (None, 24, 128)           0         \n",
      "                                                                 \n",
      " bidirectional_1 (Bidirectio  (None, 128)              98816     \n",
      " nal)                                                            \n",
      "                                                                 \n",
      " dropout_1 (Dropout)         (None, 128)               0         \n",
      "                                                                 \n",
      " dense (Dense)               (None, 50)                6450      \n",
      "                                                                 \n",
      " dropout_2 (Dropout)         (None, 50)                0         \n",
      "                                                                 \n",
      " dense_1 (Dense)             (None, 48)                2448      \n",
      "                                                                 \n",
      "=================================================================\n",
      "Total params: 142,018\n",
      "Trainable params: 142,018\n",
      "Non-trainable params: 0\n",
      "_________________________________________________________________\n"
     ]
    }
   ],
   "source": [
    "# Initialize a Sequential model with a bidirectional LSTM architecture\n",
    "model = Sequential([\n",
    "    Bidirectional(LSTM(lstm_units, activation=activation_lstm, return_sequences=True, input_shape=input_shape)),\n",
    "    Dropout(dropout_rate),\n",
    "    Bidirectional(LSTM(lstm_units, activation=activation_lstm)),\n",
    "    Dropout(dropout_rate),\n",
    "    Dense(dense_units, activation=activation_dense),\n",
    "    Dropout(dropout_rate),\n",
    "    Dense(output_units) \n",
    "])\n",
    "\n",
    "# Configure the model for training\n",
    "model.build(input_shape=(None, 24, 2))\n",
    "\n",
    "# Display the model's architecture summary\n",
    "model.summary()"
   ]
  },
  {
   "cell_type": "markdown",
   "metadata": {},
   "source": [
    "### Optimizer"
   ]
  },
  {
   "cell_type": "code",
   "execution_count": 8,
   "metadata": {},
   "outputs": [],
   "source": [
    "# Initialize the optimizer\n",
    "optimizer = Adam(learning_rate=learning_rate, clipvalue=clipvalue)"
   ]
  },
  {
   "cell_type": "markdown",
   "metadata": {},
   "source": [
    "### Compile the Model\n",
    "\n",
    "Compiling the model with an appropriate optimizer and loss function. Since this is a regression problem (predicting continuous `u` and `v` values), we will use the Mean Squared Error (MSE) loss function. The Adam optimizer will be used for its efficiency in handling sparse gradients and adaptive learning rates.\n"
   ]
  },
  {
   "cell_type": "code",
   "execution_count": 9,
   "metadata": {},
   "outputs": [],
   "source": [
    "# Compile the model\n",
    "model.compile(optimizer=optimizer, loss=loss_function)"
   ]
  },
  {
   "cell_type": "markdown",
   "metadata": {},
   "source": [
    "### Train the Model\n",
    "\n",
    "Training the model on the training set while validating its performance on the validation set. We will use a batch size of 64 and train for 50 epochs. Early stopping will be employed to halt training when the validation loss stops improving."
   ]
  },
  {
   "cell_type": "code",
   "execution_count": 10,
   "metadata": {},
   "outputs": [
    {
     "name": "stdout",
     "output_type": "stream",
     "text": [
      "2055/2055 [==============================] - 169s 79ms/step - loss: 0.0091 - val_loss: 0.0033\n"
     ]
    },
    {
     "data": {
      "image/png": "[encoded data removed]",
      "text/plain": [
       "<Figure size 640x480 with 1 Axes>"
      ]
     },
     "metadata": {},
     "output_type": "display_data"
    }
   ],
   "source": [
    "# Configure early stopping based on validation loss to prevent overfitting\n",
    "early_stopping = EarlyStopping(\n",
    "    monitor='val_loss',  \n",
    "    patience=5,  \n",
    "    mode='min',  \n",
    "    min_delta=0.00001,\n",
    "    verbose=1,  \n",
    "    restore_best_weights=True  \n",
    ")\n",
    "\n",
    "# Configure model checkpointing to save the best model based on validation loss\n",
    "model_checkpoint = ModelCheckpoint(\n",
    "    lstm_model_path,\n",
    "    monitor='val_loss',  \n",
    "    mode='min',  \n",
    "    save_best_only=True,  \n",
    "    verbose=0  \n",
    ")\n",
    "\n",
    "# Train the model with specified data, using early stopping and model checkpointing\n",
    "history = model.fit(\n",
    "    X_train, y_train.reshape(y_train.shape[0], -1),  \n",
    "    epochs=epochs, batch_size=batch_size, \n",
    "    validation_data=(X_val, y_val.reshape(y_val.shape[0], -1)),  \n",
    "    callbacks=[early_stopping, model_checkpoint]  \n",
    ")\n",
    "\n",
    "# Visualize training and validation loss over epochs\n",
    "plt.plot(history.history['loss'], label='Training Loss')  \n",
    "plt.plot(history.history['val_loss'], label='Validation Loss')  \n",
    "plt.title('Training Loss vs Validation Loss')  \n",
    "plt.ylabel('Loss')  \n",
    "plt.xlabel('Epoch')  \n",
    "plt.legend()  \n",
    "plt.show()  "
   ]
  },
  {
   "cell_type": "markdown",
   "metadata": {},
   "source": [
    "### Evaluate the Model on Test Set"
   ]
  },
  {
   "cell_type": "code",
   "execution_count": 11,
   "metadata": {},
   "outputs": [
    {
     "name": "stdout",
     "output_type": "stream",
     "text": [
      "1761/1761 [==============================] - 17s 9ms/step\n",
      "\n",
      "Test Loss (MSE): 0.0034408895298838615\n",
      "Test MAE: 0.03136511271956507\n",
      "Test MSE: 0.0034408966263770476\n",
      "Test RMSE: 0.05865915637287198\n",
      "\n",
      "===============================================================================================================================================================================\n"
     ]
    }
   ],
   "source": [
    "# Evaluate the model on the test set to determine the final loss value\n",
    "test_loss = model.evaluate(X_test, y_test.reshape(y_test.shape[0], -1), verbose=0)\n",
    "\n",
    "# Make predictions on the test set\n",
    "y_pred = model.predict(X_test)\n",
    "\n",
    "# Reshape y_test and y_pred to calculate metrics\n",
    "y_true = y_test.reshape(y_test.shape[0], -1)\n",
    "y_pred = y_pred.reshape(y_pred.shape[0], -1)\n",
    "\n",
    "# Calculate the different metrics\n",
    "test_mse = mean_squared_error(y_true, y_pred)   # Lower is better. Range: [0, ∞), 0 being perfect.\n",
    "test_mae = mean_absolute_error(y_true, y_pred)  # Lower is better. Range: [0, ∞), 0 being perfect.\n",
    "test_rmse = np.sqrt(test_mse)                   # Lower is better. Range: [0, ∞), 0 being perfect.\n",
    "\n",
    "# Print the metrics \n",
    "print(f'\\nTest Loss (MSE): {test_loss}')\n",
    "print(f'Test MAE: {test_mae}')\n",
    "print(f'Test MSE: {test_mse}')\n",
    "print(f'Test RMSE: {test_rmse}\\n')\n",
    "print(\"=\"*175)"
   ]
  },
  {
   "cell_type": "markdown",
   "metadata": {},
   "source": [
    "# Making a Real Life Prediction\n",
    "\n",
    "This section describes the process of making real-life predictions using a trained LSTM model. We start by loading the model and input data, followed by making predictions for 'u' and 'v' sea surface currents.\n",
    "\n",
    "Here we import the data that was saved on 2nd June 2023. We use this to make a prediction for 3rd June 2023. Then we compare the actual data from 3rd June to the predicted data for that day."
   ]
  },
  {
   "cell_type": "code",
   "execution_count": 12,
   "metadata": {},
   "outputs": [
    {
     "name": "stdout",
     "output_type": "stream",
     "text": [
      "Starting the prediction process...\n",
      "\n",
      "Predictions saved to Data/LSTM/predicted_sea_surface_currents.nc\n",
      "\n",
      "===============================================================================================================================================================================\n"
     ]
    }
   ],
   "source": [
    "# Load previously trained model\n",
    "model_path = load_model(lstm_model_path)\n",
    "\n",
    "# Open NetCDF file as input dataset\n",
    "input_ds = xr.open_dataset('Data/LSTM/sea_surface_currents_input_for_prediction.nc')\n",
    "\n",
    "# Ignore warnings related to feature names in the input dataset\n",
    "warnings.filterwarnings(action='ignore', category=UserWarning, message='.*X does not have valid feature names.*')\n",
    "# Ignore warnings from sklearn about data conversion\n",
    "warnings.filterwarnings(action='ignore', category=DataConversionWarning)\n",
    "\n",
    "# Retrieve scaler for data normalization from saved file\n",
    "scaler = joblib.load('Data/LSTM/lstm_scaler.save')\n",
    "\n",
    "# Compute global mean values for 'u' and 'v' variables as fallback for missing data\n",
    "global_mean_u = np.nanmean(input_ds['u'].values)\n",
    "global_mean_v = np.nanmean(input_ds['v'].values)\n",
    "\n",
    "# Notification of prediction process initiation\n",
    "print(\"Starting the prediction process...\")\n",
    "\n",
    "# Initialize placeholders for prediction outputs\n",
    "predicted_u = np.zeros_like(input_ds['u'].values)\n",
    "predicted_v = np.zeros_like(input_ds['v'].values)\n",
    "\n",
    "# Loop through each spatial location for prediction\n",
    "for lat_idx in range(len(input_ds['lat'])):\n",
    "    for lon_idx in range(len(input_ds['lon'])):\n",
    "        # Gather 24-hour historical data for 'u' and 'v' at current location\n",
    "        u_history = input_ds['u'].isel(lat=lat_idx, lon=lon_idx).values[-24:]\n",
    "        v_history = input_ds['v'].isel(lat=lat_idx, lon=lon_idx).values[-24:]\n",
    "        \n",
    "        # Use global means if historical data are entirely NaNs, else fill NaNs with local mean\n",
    "        if np.all(np.isnan(u_history)):\n",
    "            u_history = np.full(u_history.shape, global_mean_u)\n",
    "        else:\n",
    "            u_history[np.isnan(u_history)] = np.nanmean(u_history)\n",
    "        \n",
    "        if np.all(np.isnan(v_history)):\n",
    "            v_history = np.full(v_history.shape, global_mean_v)\n",
    "        else:\n",
    "            v_history[np.isnan(v_history)] = np.nanmean(v_history)\n",
    "        \n",
    "        # Normalize historical data\n",
    "        history_scaled = scaler.transform(np.stack([u_history, v_history], axis=1))\n",
    "        \n",
    "        # Prepare data for model input\n",
    "        history_reshaped = history_scaled.reshape(1, 24, 2)\n",
    "        \n",
    "        # Predict future values\n",
    "        prediction_scaled = model_path.predict(history_reshaped, verbose=0)\n",
    "        \n",
    "        # Convert predictions back to original scale\n",
    "        prediction = scaler.inverse_transform(prediction_scaled.reshape(24, 2))\n",
    "        \n",
    "        # Save predictions to placeholders\n",
    "        predicted_u[:, lat_idx, lon_idx] = prediction[:, 0]\n",
    "        predicted_v[:, lat_idx, lon_idx] = prediction[:, 1]\n",
    "\n",
    "# Construct xarray Dataset to hold predictions\n",
    "predicted_ds = xr.Dataset(\n",
    "    {\n",
    "        \"u\": ((\"time\", \"lat\", \"lon\"), predicted_u),\n",
    "        \"v\": ((\"time\", \"lat\", \"lon\"), predicted_v),\n",
    "    },\n",
    "    coords={\n",
    "        \"time\": input_ds['time'].values[-24:], # Use last 24 hours of input time\n",
    "        \"lat\": input_ds['lat'].values,\n",
    "        \"lon\": input_ds['lon'].values,\n",
    "    }\n",
    ")\n",
    "\n",
    "# Define path for saving predicted data\n",
    "predicted_data_file_path = 'Data/LSTM/lstm_predicted_sea_surface_currents.nc'\n",
    "\n",
    "# Write predictions to NetCDF file\n",
    "predicted_ds.to_netcdf(predicted_data_file_path)\n",
    "\n",
    "# Confirmation of successful prediction saving\n",
    "print(f\"\\nPredictions saved to {predicted_data_file_path}\\n\")\n",
    "print(\"=\"*175)\n",
    "\n",
    "# Restore default warning behavior\n",
    "warnings.filterwarnings(action='default', category=UserWarning, message='.*X does not have valid feature names.*')\n",
    "warnings.filterwarnings(action='default', category=DataConversionWarning)"
   ]
  },
  {
   "cell_type": "markdown",
   "metadata": {},
   "source": [
    "# Compare Prediction to Actual Data\n",
    "\n",
    "After generating predictions, proceed to compare these predictions against actual observed data to evaluate the model's performance."
   ]
  },
  {
   "cell_type": "code",
   "execution_count": 13,
   "metadata": {},
   "outputs": [
    {
     "name": "stdout",
     "output_type": "stream",
     "text": [
      "Error Metrics for 'u':\n",
      "MSE: 0.03920181493104894\n",
      "MAE: 0.16085916527028882\n",
      "RMSE: 0.19799448207222578\n",
      "\n",
      "Error Metrics for 'v':\n",
      "MSE: 0.03601913673798892\n",
      "MAE: 0.1584741554040758\n",
      "RMSE: 0.18978708264259958\n",
      "\n",
      "===============================================================================================================================================================================\n"
     ]
    }
   ],
   "source": [
    "# Open dataset to compare with predictions for evaluation\n",
    "actual_data_file_path = 'Data/LSTM/sea_surface_currents_compare_for_prediction.nc'\n",
    "compare_ds = xr.open_dataset(actual_data_file_path)\n",
    "\n",
    "# Extract and flatten actual 'u' and 'v' values for direct comparison\n",
    "actual_u = compare_ds['u'].values.flatten()\n",
    "actual_v = compare_ds['v'].values.flatten()\n",
    "\n",
    "# Flatten predicted 'u' and 'v' values to match the format of actual values\n",
    "predicted_u = predicted_ds['u'].values.flatten()\n",
    "predicted_v = predicted_ds['v'].values.flatten()\n",
    "\n",
    "# Remove NaN values from actual data and corresponding predictions for accurate error calculation\n",
    "not_nan_mask_u = ~np.isnan(actual_u)\n",
    "filtered_actual_u = actual_u[not_nan_mask_u]\n",
    "filtered_predicted_u = predicted_u[not_nan_mask_u]\n",
    "\n",
    "not_nan_mask_v = ~np.isnan(actual_v)\n",
    "filtered_actual_v = actual_v[not_nan_mask_v]\n",
    "filtered_predicted_v = predicted_v[not_nan_mask_v]\n",
    "\n",
    "# Compute Mean Squared Error (MSE), Mean Absolute Error (MAE), and Root Mean Squared Error (RMSE) for 'u'\n",
    "mse_u = mean_squared_error(filtered_actual_u, filtered_predicted_u)\n",
    "mae_u = mean_absolute_error(filtered_actual_u, filtered_predicted_u)\n",
    "rmse_u = np.sqrt(mse_u)\n",
    "\n",
    "# Compute MSE, MAE, and RMSE for 'v' using filtered data\n",
    "mse_v = mean_squared_error(filtered_actual_v, filtered_predicted_v)\n",
    "mae_v = mean_absolute_error(filtered_actual_v, filtered_predicted_v)\n",
    "rmse_v = np.sqrt(mse_v)\n",
    "\n",
    "# Display error metrics for both 'u' and 'v'\n",
    "print(f\"Error Metrics for 'u':\\nMSE: {mse_u}\\nMAE: {mae_u}\\nRMSE: {rmse_u}\\n\")\n",
    "print(f\"Error Metrics for 'v':\\nMSE: {mse_v}\\nMAE: {mae_v}\\nRMSE: {rmse_v}\\n\")\n",
    "print(\"=\"*175)"
   ]
  },
  {
   "cell_type": "markdown",
   "metadata": {},
   "source": [
    "### Making comparisons for same location"
   ]
  },
  {
   "cell_type": "code",
   "execution_count": 14,
   "metadata": {},
   "outputs": [
    {
     "name": "stdout",
     "output_type": "stream",
     "text": [
      "Filtered Actual vs Predicted 'u' values for the first 24 hours at location (lon: 13.8, lat: 35.81):\n",
      "Hour 1: Actual u: -0.07104788967975725, Predicted u: 0.11928950250148773\n",
      "Hour 2: Actual u: -0.04782448141978448, Predicted u: 0.11275617778301239\n",
      "Hour 3: Actual u: -0.014571334226734556, Predicted u: 0.10490169376134872\n",
      "Hour 4: Actual u: 0.006820242418312718, Predicted u: 0.09465771913528442\n",
      "Hour 5: Actual u: 0.009262624151131224, Predicted u: 0.09776058793067932\n",
      "Hour 6: Actual u: 0.030540892678236085, Predicted u: 0.11348026245832443\n",
      "Hour 7: Actual u: -0.07421332274404487, Predicted u: 0.1230575442314148\n",
      "Hour 8: Actual u: -0.05912553329718562, Predicted u: 0.1127074733376503\n",
      "Hour 9: Actual u: -0.036570216211938136, Predicted u: 0.10124985128641129\n",
      "Hour 10: Actual u: -0.01091562718831708, Predicted u: 0.08848997205495834\n",
      "Hour 11: Actual u: -0.010052023595182966, Predicted u: 0.09714068472385406\n",
      "Hour 12: Actual u: 0.0011245187406154463, Predicted u: 0.10465868562459946\n",
      "Hour 13: Actual u: -0.04293550094220419, Predicted u: 0.13958992063999176\n",
      "Hour 14: Actual u: -0.06952693033151347, Predicted u: 0.12631653249263763\n",
      "Hour 15: Actual u: -0.07970357659727725, Predicted u: 0.10743598639965057\n",
      "Hour 16: Actual u: -0.0767296824329036, Predicted u: 0.09494306892156601\n",
      "Hour 17: Actual u: -0.06388873737310441, Predicted u: 0.09256590157747269\n",
      "Hour 18: Actual u: -0.034372316679235376, Predicted u: 0.09505017846822739\n",
      "Hour 19: Actual u: -0.011532313185526354, Predicted u: 0.0904063805937767\n",
      "Hour 20: Actual u: -0.024666206722829646, Predicted u: 0.1473855823278427\n",
      "Hour 21: Actual u: -0.0403525912134611, Predicted u: 0.12894590198993683\n",
      "Hour 22: Actual u: -0.04945215463801424, Predicted u: 0.10835165530443192\n",
      "Hour 23: Actual u: -0.07787313806770435, Predicted u: 0.09043002128601074\n",
      "Hour 24: Actual u: -0.07245255068781989, Predicted u: 0.09692758321762085\n",
      "\n",
      "Filtered Actual vs Predicted 'v' values for the first 24 hours at location (lon: 13.8, lat: 35.81):\n",
      "Hour 1: Actual v: 0.03451669382896289, Predicted v: -0.09834186732769012\n",
      "Hour 2: Actual v: 0.0022712888713176966, Predicted v: -0.09677380323410034\n",
      "Hour 3: Actual v: -0.08381508833876841, Predicted v: -0.09352639317512512\n",
      "Hour 4: Actual v: -0.12833391493356758, Predicted v: -0.09732168912887573\n",
      "Hour 5: Actual v: -0.12201010484372844, Predicted v: -0.10830049216747284\n",
      "Hour 6: Actual v: -0.06409018414824376, Predicted v: -0.11447879672050476\n",
      "Hour 7: Actual v: 0.03827688852988194, Predicted v: -0.1008744090795517\n",
      "Hour 8: Actual v: 0.024494200740173347, Predicted v: -0.09582776576280594\n",
      "Hour 9: Actual v: -0.024050299571796854, Predicted v: -0.09198832511901855\n",
      "Hour 10: Actual v: -0.07065391912614326, Predicted v: -0.09227953851222992\n",
      "Hour 11: Actual v: -0.08397671719899871, Predicted v: -0.10536640137434006\n",
      "Hour 12: Actual v: -0.03162446803115326, Predicted v: -0.10897297412157059\n",
      "Hour 13: Actual v: 0.059928847447354175, Predicted v: -0.10759145766496658\n",
      "Hour 14: Actual v: 0.04549143168185971, Predicted v: -0.10286164283752441\n",
      "Hour 15: Actual v: 0.04632558808919814, Predicted v: -0.09300293028354645\n",
      "Hour 16: Actual v: 0.05688694075183415, Predicted v: -0.08903305977582932\n",
      "Hour 17: Actual v: 0.04528349116463143, Predicted v: -0.09411811828613281\n",
      "Hour 18: Actual v: -0.011412810780785022, Predicted v: -0.101423479616642\n",
      "Hour 19: Actual v: 0.02424425857126514, Predicted v: -0.0970357358455658\n",
      "Hour 20: Actual v: 0.060635453239589944, Predicted v: -0.11105722188949585\n",
      "Hour 21: Actual v: 0.05197096016728295, Predicted v: -0.10401488095521927\n",
      "Hour 22: Actual v: 0.052865621393204, Predicted v: -0.09354637563228607\n",
      "Hour 23: Actual v: 0.07307234223117084, Predicted v: -0.08613996207714081\n",
      "Hour 24: Actual v: 0.08797857494555164, Predicted v: -0.09323909878730774\n"
     ]
    }
   ],
   "source": [
    "# Define specific longitude and latitude for detailed comparison\n",
    "selected_lon = 13.8\n",
    "selected_lat = 35.81\n",
    "\n",
    "# Display comparison of actual vs predicted 'u' values for the selected location over the first 24 hours\n",
    "print(f\"Filtered Actual vs Predicted 'u' values for the first 24 hours at location (lon: {selected_lon}, lat: {selected_lat}):\")\n",
    "for i in range(24):\n",
    "    # Ensure there are enough filtered data points for comparison\n",
    "    if i < len(filtered_actual_u) and i < len(filtered_predicted_u):\n",
    "        print(f\"Hour {i+1}: Actual u: {filtered_actual_u[i]}, Predicted u: {filtered_predicted_u[i]}\")\n",
    "    else:\n",
    "        # Notify if filtered data points are insufficient for the full 24-hour comparison\n",
    "        print(f\"Hour {i+1}: Not enough data points available after filtering for NaN values.\")\n",
    "\n",
    "# Display comparison of actual vs predicted 'v' values for the same location and period\n",
    "print(f\"\\nFiltered Actual vs Predicted 'v' values for the first 24 hours at location (lon: {selected_lon}, lat: {selected_lat}):\")\n",
    "for i in range(24):\n",
    "    # Check for sufficient filtered data points\n",
    "    if i < len(filtered_actual_v) and i < len(filtered_predicted_v):\n",
    "        print(f\"Hour {i+1}: Actual v: {filtered_actual_v[i]}, Predicted v: {filtered_predicted_v[i]}\")\n",
    "    else:\n",
    "        # Indicate limited data availability after NaN filtering\n",
    "        print(f\"Hour {i+1}: Not enough data points available after filtering for NaN values.\")"
   ]
  },
  {
   "cell_type": "markdown",
   "metadata": {},
   "source": [
    "### Visualisations\n",
    "\n",
    "Ploting the first 24 values of the actual_u, actual_v, predicted_u, and predicted_v arrays."
   ]
  },
  {
   "cell_type": "code",
   "execution_count": 15,
   "metadata": {},
   "outputs": [
    {
     "data": {
      "image/png": "[encoded data removed]",
      "text/plain": [
       "<Figure size 1400x600 with 2 Axes>"
      ]
     },
     "metadata": {},
     "output_type": "display_data"
    }
   ],
   "source": [
    "# Time array for x-axis (assuming 24 hours predictions)\n",
    "time_hours = range(1, 25)\n",
    "\n",
    "# Line plot for 'u'\n",
    "plt.figure(figsize=(14, 6))\n",
    "plt.subplot(1, 2, 1)\n",
    "plt.plot(time_hours, actual_u[:24], label='Actual u', marker='o')\n",
    "plt.plot(time_hours, predicted_u[:24], label='Predicted u', marker='x')\n",
    "plt.title('Actual vs Predicted u')\n",
    "plt.xlabel('Hour')\n",
    "plt.ylabel('u value')\n",
    "plt.legend()\n",
    "plt.grid(True)\n",
    "\n",
    "# Line plot for 'v'\n",
    "plt.subplot(1, 2, 2)\n",
    "plt.plot(time_hours, actual_v[:24], label='Actual v', marker='o')\n",
    "plt.plot(time_hours, predicted_v[:24], label='Predicted v', marker='x')\n",
    "plt.title('Actual vs Predicted v')\n",
    "plt.xlabel('Hour')\n",
    "plt.ylabel('v value')\n",
    "plt.legend()\n",
    "plt.grid(True)\n",
    "\n",
    "plt.tight_layout()\n",
    "plt.show()"
   ]
  }
 ],
 "metadata": {
  "kernelspec": {
   "display_name": "base",
   "language": "python",
   "name": "python3"
  },
  "language_info": {
   "codemirror_mode": {
    "name": "ipython",
    "version": 3
   },
   "file_extension": ".py",
   "mimetype": "text/x-python",
   "name": "python",
   "nbconvert_exporter": "python",
   "pygments_lexer": "ipython3",
   "version": "3.9.18"
  }
 },
 "nbformat": 4,
 "nbformat_minor": 2
}
